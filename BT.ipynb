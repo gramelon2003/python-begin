{
  "nbformat": 4,
  "nbformat_minor": 0,
  "metadata": {
    "colab": {
      "name": "BT.ipynb",
      "provenance": [],
      "collapsed_sections": [],
      "authorship_tag": "ABX9TyPYaX5qtB0F+OSb6K/uCmha",
      "include_colab_link": true
    },
    "kernelspec": {
      "name": "python3",
      "display_name": "Python 3"
    },
    "language_info": {
      "name": "python"
    }
  },
  "cells": [
    {
      "cell_type": "markdown",
      "metadata": {
        "id": "view-in-github",
        "colab_type": "text"
      },
      "source": [
        "<a href=\"https://colab.research.google.com/github/gramelon2003/python-begin/blob/master/BT.ipynb\" target=\"_parent\"><img src=\"https://colab.research.google.com/assets/colab-badge.svg\" alt=\"Open In Colab\"/></a>"
      ]
    },
    {
      "cell_type": "code",
      "metadata": {
        "colab": {
          "base_uri": "https://localhost:8080/"
        },
        "id": "55Bk2yuCBOMW",
        "outputId": "fcc6b342-2a0c-49d3-a839-529b7b81e376"
      },
      "source": [
        "#\n",
        "\n",
        "radius = 20 # bk la 20\n",
        "\n",
        "# tinh bk\n",
        "\n",
        "area = radius * radius * 3.14159\n",
        "\n",
        "# in kq\n",
        "\n",
        "print(\"dien tich hinh tron bk\",\n",
        "\n",
        "radius, \"la\", area)"
      ],
      "execution_count": 26,
      "outputs": [
        {
          "output_type": "stream",
          "name": "stdout",
          "text": [
            "dien tich hinh tron bk 20 la 1256.636\n"
          ]
        }
      ]
    },
    {
      "cell_type": "code",
      "metadata": {
        "colab": {
          "base_uri": "https://localhost:8080/"
        },
        "id": "Hck2l7ZmGxIT",
        "outputId": "d451a28c-9a4c-486b-fd09-2d4a5e9399e8"
      },
      "source": [
        "variable = input(\"Nhap bieu thuc: \") #\n"
      ],
      "execution_count": 28,
      "outputs": [
        {
          "name": "stdout",
          "output_type": "stream",
          "text": [
            "Nhap bieu thuc: 12+15*22\n"
          ]
        }
      ]
    },
    {
      "cell_type": "code",
      "metadata": {
        "colab": {
          "base_uri": "https://localhost:8080/"
        },
        "id": "Wa9Y-KD0HEjB",
        "outputId": "8d63f31d-620e-4273-8b40-722d6e4f0b06"
      },
      "source": [
        "var = eval(variable)\n",
        "print(var)"
      ],
      "execution_count": 29,
      "outputs": [
        {
          "output_type": "stream",
          "name": "stdout",
          "text": [
            "342\n"
          ]
        }
      ]
    },
    {
      "cell_type": "code",
      "metadata": {
        "colab": {
          "base_uri": "https://localhost:8080/"
        },
        "id": "ityGsVTUIXO3",
        "outputId": "4499a6ff-7e01-4aa6-c7d6-03f799c21834"
      },
      "source": [
        "x=input(\"ban kinh la: \",)\n",
        "area=radius*radius*3.1415926\n",
        "print(\"dien tich la\", area,\"voi ban kinh \",x)"
      ],
      "execution_count": 31,
      "outputs": [
        {
          "output_type": "stream",
          "name": "stdout",
          "text": [
            "ban kinh la: 15\n",
            "dien tich la 1256.63704 voi ban kinh  15\n"
          ]
        }
      ]
    },
    {
      "cell_type": "code",
      "metadata": {
        "colab": {
          "base_uri": "https://localhost:8080/"
        },
        "id": "lfyFxTS0JJcL",
        "outputId": "c75f5c9b-8334-41f9-b8d4-32a3494ef6b1"
      },
      "source": [
        "eval(\"22+15*17-44\")"
      ],
      "execution_count": 19,
      "outputs": [
        {
          "output_type": "execute_result",
          "data": {
            "text/plain": [
              "233"
            ]
          },
          "metadata": {},
          "execution_count": 19
        }
      ]
    }
  ]
}