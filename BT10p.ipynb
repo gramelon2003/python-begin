{
  "nbformat": 4,
  "nbformat_minor": 0,
  "metadata": {
    "colab": {
      "name": "BT10p.ipynb",
      "provenance": [],
      "authorship_tag": "ABX9TyPSKFLwuahn70mdVFxODCGu",
      "include_colab_link": true
    },
    "kernelspec": {
      "name": "python3",
      "display_name": "Python 3"
    },
    "language_info": {
      "name": "python"
    }
  },
  "cells": [
    {
      "cell_type": "markdown",
      "metadata": {
        "id": "view-in-github",
        "colab_type": "text"
      },
      "source": [
        "<a href=\"https://colab.research.google.com/github/gramelon2003/python-begin/blob/master/BT10p.ipynb\" target=\"_parent\"><img src=\"https://colab.research.google.com/assets/colab-badge.svg\" alt=\"Open In Colab\"/></a>"
      ]
    },
    {
      "cell_type": "code",
      "metadata": {
        "colab": {
          "base_uri": "https://localhost:8080/"
        },
        "id": "ahj_pn-hFoPw",
        "outputId": "5085bbc8-b4f6-475e-fe86-e081b94ab4aa"
      },
      "source": [
        "x=float(input(\"nhap diem trung binh: \"))\n",
        "if x>0 and x<5:\n",
        "  print(\"Hoc luc Yeu\")\n",
        "if x>=5 and x<7:\n",
        "  print(\"hoc luc Trung binh\")\n",
        "if x>=7 and x<8:\n",
        "  print(\"hoc luc Kha\")\n",
        "if x>=8 and x<9:\n",
        "  print(\"hoc luc Gioi\")\n",
        "if x>=9 and x<10:\n",
        "  print(\"hoc luc Xuat sac\")"
      ],
      "execution_count": 1,
      "outputs": [
        {
          "output_type": "stream",
          "name": "stdout",
          "text": [
            "nhap diem trung binh: 7.8\n",
            "hoc luc Kha\n"
          ]
        }
      ]
    }
  ]
}