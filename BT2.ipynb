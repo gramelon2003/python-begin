{
  "nbformat": 4,
  "nbformat_minor": 0,
  "metadata": {
    "colab": {
      "name": "BT2.ipynb",
      "provenance": [],
      "authorship_tag": "ABX9TyNhGAuvIQShA5tKgS55iJTU",
      "include_colab_link": true
    },
    "kernelspec": {
      "name": "python3",
      "display_name": "Python 3"
    },
    "language_info": {
      "name": "python"
    }
  },
  "cells": [
    {
      "cell_type": "markdown",
      "metadata": {
        "id": "view-in-github",
        "colab_type": "text"
      },
      "source": [
        "<a href=\"https://colab.research.google.com/github/gramelon2003/python-begin/blob/master/BT2.ipynb\" target=\"_parent\"><img src=\"https://colab.research.google.com/assets/colab-badge.svg\" alt=\"Open In Colab\"/></a>"
      ]
    },
    {
      "cell_type": "code",
      "metadata": {
        "colab": {
          "base_uri": "https://localhost:8080/"
        },
        "id": "DFY_TQI9bGOS",
        "outputId": "1b6c191a-a512-49db-bb7b-2504b98a946b"
      },
      "source": [
        "loanAmount=float(input(\"nhap tien no: \"))\n",
        "MonthlyInterestRate=float(input(\"nhap tien lai: \"))\n",
        "numberOfYears=float(input(\"nhap so nam: \"))\n",
        "monthlyPayment=float((loanAmount*MonthlyInterestRate)/(1-1/((1+MonthlyInterestRate)**(numberOfYears*12))))\n",
        "print(\"so tien phai tra \"+str(monthlyPayment))"
      ],
      "execution_count": 10,
      "outputs": [
        {
          "output_type": "stream",
          "name": "stdout",
          "text": [
            "nhap tien no: 1000000\n",
            "nhap tien lai: 0.05\n",
            "nhap so nam: 2\n",
            "so tien phai tra 72470.90075268698\n"
          ]
        }
      ]
    },
    {
      "cell_type": "code",
      "metadata": {
        "colab": {
          "base_uri": "https://localhost:8080/"
        },
        "id": "fI9vaha5dZxF",
        "outputId": "03b775f5-50f5-4af4-d10e-15d2e78c9d70"
      },
      "source": [
        "import math \n",
        "a=float(input(\"nhap gia tri toa do x cua a: \"))\n",
        "b=float(input(\"nhap gia tri toa do y cua a: \"))\n",
        "c=float(input(\"nhap gia tri toa do x cua b: \"))\n",
        "d=float(input(\"nhap gia tri toa do y cua b: \"))\n",
        "khoang_cach=math.sqrt((c-a)**2+(d-b)**2)\n",
        "print(khoang_cach)"
      ],
      "execution_count": 14,
      "outputs": [
        {
          "output_type": "stream",
          "name": "stdout",
          "text": [
            "nhap gia tri toa do x cua a: 5\n",
            "nhap gia tri toa do y cua a: 7\n",
            "nhap gia tri toa do x cua b: 1\n",
            "nhap gia tri toa do y cua b: 3\n",
            "5.656854249492381\n"
          ]
        }
      ]
    }
  ]
}