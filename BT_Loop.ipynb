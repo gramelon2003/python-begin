{
  "nbformat": 4,
  "nbformat_minor": 0,
  "metadata": {
    "colab": {
      "name": "BT-Loop.ipynb",
      "provenance": [],
      "authorship_tag": "ABX9TyP2dRjsPEsPxLlkAIwJCqAR",
      "include_colab_link": true
    },
    "kernelspec": {
      "name": "python3",
      "display_name": "Python 3"
    },
    "language_info": {
      "name": "python"
    }
  },
  "cells": [
    {
      "cell_type": "markdown",
      "metadata": {
        "id": "view-in-github",
        "colab_type": "text"
      },
      "source": [
        "<a href=\"https://colab.research.google.com/github/gramelon2003/python-begin/blob/master/BT_Loop.ipynb\" target=\"_parent\"><img src=\"https://colab.research.google.com/assets/colab-badge.svg\" alt=\"Open In Colab\"/></a>"
      ]
    },
    {
      "cell_type": "markdown",
      "metadata": {
        "id": "ga0g9whNMSTg"
      },
      "source": [
        "B1"
      ]
    },
    {
      "cell_type": "code",
      "metadata": {
        "colab": {
          "base_uri": "https://localhost:8080/"
        },
        "id": "8fw3W5PYISV9",
        "outputId": "405bb90d-0d2b-4a55-8df2-2a1df5e28e58"
      },
      "source": [
        "x=0\n",
        "while x<10:\n",
        "  print(x)\n",
        "  x+=1"
      ],
      "execution_count": null,
      "outputs": [
        {
          "output_type": "stream",
          "name": "stdout",
          "text": [
            "0\n",
            "1\n",
            "2\n",
            "3\n",
            "4\n",
            "5\n",
            "6\n",
            "7\n",
            "8\n",
            "9\n"
          ]
        }
      ]
    },
    {
      "cell_type": "markdown",
      "metadata": {
        "id": "nXckb92CMWBQ"
      },
      "source": [
        "B2"
      ]
    },
    {
      "cell_type": "code",
      "metadata": {
        "id": "DaMS6g1PkaPN",
        "colab": {
          "base_uri": "https://localhost:8080/"
        },
        "outputId": "4181a64f-c3d1-4a32-f1a9-67556c63ad4c"
      },
      "source": [
        "a=5\n",
        "for i in range(0,a+1):\n",
        "    for j in range(a-i,0,-1):\n",
        "        print(j, end=' ')\n",
        "    print('')\n"
      ],
      "execution_count": 10,
      "outputs": [
        {
          "output_type": "stream",
          "name": "stdout",
          "text": [
            "5 4 3 2 1 \n",
            "4 3 2 1 \n",
            "3 2 1 \n",
            "2 1 \n",
            "1 \n",
            "\n"
          ]
        }
      ]
    },
    {
      "cell_type": "markdown",
      "metadata": {
        "id": "mQncog8hMXt-"
      },
      "source": [
        "B3"
      ]
    },
    {
      "cell_type": "code",
      "metadata": {
        "colab": {
          "base_uri": "https://localhost:8080/"
        },
        "id": "d6PNGirSMYlD",
        "outputId": "1d362132-3145-4185-addd-03d0810026bd"
      },
      "source": [
        "x=int(input(\"nhap x: \"))\n",
        "a=0\n",
        "s=0\n",
        "y=x+1\n",
        "while a<y:\n",
        "  s=s+a\n",
        "  a=a+1\n",
        "print(\"tong so hang tư 1 den x la: \",s)"
      ],
      "execution_count": null,
      "outputs": [
        {
          "output_type": "stream",
          "name": "stdout",
          "text": [
            "nhap x: 15\n",
            "tong so hang tư 1 den x la:  120\n"
          ]
        }
      ]
    },
    {
      "cell_type": "markdown",
      "metadata": {
        "id": "MgfwysE0NZ-J"
      },
      "source": [
        "B4"
      ]
    },
    {
      "cell_type": "code",
      "metadata": {
        "colab": {
          "base_uri": "https://localhost:8080/"
        },
        "id": "VTZGuoYfNapB",
        "outputId": "9927f229-5e3a-4055-d77a-2f9585fcf22b"
      },
      "source": [
        "x=int(input(\"nhap so tu 1 den 10: \"))\n",
        "for i in range(1,x):\n",
        "  print(\"{}*{}={}\".format(x,i,x*i))"
      ],
      "execution_count": null,
      "outputs": [
        {
          "output_type": "stream",
          "name": "stdout",
          "text": [
            "nhap so tu 1 den 10: 5\n",
            "5*1=5\n",
            "5*2=10\n",
            "5*3=15\n",
            "5*4=20\n"
          ]
        }
      ]
    },
    {
      "cell_type": "markdown",
      "metadata": {
        "id": "-mVPtl8uP9gn"
      },
      "source": [
        "B5"
      ]
    },
    {
      "cell_type": "code",
      "metadata": {
        "colab": {
          "base_uri": "https://localhost:8080/"
        },
        "id": "e-KSzDxZP-YL",
        "outputId": "926fe609-d0f9-4034-cb1e-e8238822f2d6"
      },
      "source": [
        "x=[1,2,3,5,4,6,7]\n",
        "for i in x:\n",
        "  print(i)"
      ],
      "execution_count": null,
      "outputs": [
        {
          "output_type": "stream",
          "name": "stdout",
          "text": [
            "1\n",
            "2\n",
            "3\n",
            "5\n",
            "4\n",
            "6\n",
            "7\n"
          ]
        }
      ]
    },
    {
      "cell_type": "markdown",
      "metadata": {
        "id": "sXQ8r6DhQjJx"
      },
      "source": [
        "B6"
      ]
    },
    {
      "cell_type": "code",
      "metadata": {
        "colab": {
          "base_uri": "https://localhost:8080/"
        },
        "id": "znhjj7S-QkEW",
        "outputId": "7cf90774-91d2-4139-8c76-37fc34118983"
      },
      "source": [
        "s=int(input(\"nhap so s: \"))\n",
        "a=0\n",
        "while s>0:\n",
        "  a=a+s%10\n",
        "  s=s//10\n",
        "print(a)\n"
      ],
      "execution_count": null,
      "outputs": [
        {
          "output_type": "stream",
          "name": "stdout",
          "text": [
            "nhap so s: 175656\n",
            "30\n"
          ]
        }
      ]
    },
    {
      "cell_type": "markdown",
      "metadata": {
        "id": "wTMWrKBOUKSJ"
      },
      "source": [
        "B7"
      ]
    },
    {
      "cell_type": "code",
      "metadata": {
        "colab": {
          "base_uri": "https://localhost:8080/"
        },
        "id": "0CMXyxa-ULMt",
        "outputId": "891d0d45-c681-46c6-c1a4-2af413df43ce"
      },
      "source": [
        "x=[1,2,3,4,5,6,7,8]\n",
        "x.reverse()\n",
        "for i in x:\n",
        "  print(i)"
      ],
      "execution_count": null,
      "outputs": [
        {
          "output_type": "stream",
          "name": "stdout",
          "text": [
            "8\n",
            "7\n",
            "6\n",
            "5\n",
            "4\n",
            "3\n",
            "2\n",
            "1\n"
          ]
        }
      ]
    },
    {
      "cell_type": "markdown",
      "metadata": {
        "id": "BHa508iDXD_K"
      },
      "source": [
        "B8"
      ]
    },
    {
      "cell_type": "code",
      "metadata": {
        "colab": {
          "base_uri": "https://localhost:8080/"
        },
        "id": "F76lnZfjXU3H",
        "outputId": "bbd51b5a-338e-4520-aeba-8262b05f933f"
      },
      "source": [
        "for i in range(-10,0):\n",
        "  print(i)"
      ],
      "execution_count": null,
      "outputs": [
        {
          "output_type": "stream",
          "name": "stdout",
          "text": [
            "-10\n",
            "-9\n",
            "-8\n",
            "-7\n",
            "-6\n",
            "-5\n",
            "-4\n",
            "-3\n",
            "-2\n",
            "-1\n"
          ]
        }
      ]
    },
    {
      "cell_type": "markdown",
      "metadata": {
        "id": "7OUrMb9MYctY"
      },
      "source": [
        "B10"
      ]
    },
    {
      "cell_type": "code",
      "metadata": {
        "colab": {
          "base_uri": "https://localhost:8080/"
        },
        "id": "Lfw-kBJuYd_P",
        "outputId": "cad2e88d-b0d2-4054-c1ca-da5a7990e4ed"
      },
      "source": [
        "a = int(input(\"nhap gioi han duoi: \"))  \n",
        "b = int(input(\"nhap gioi han tren: \"))\n",
        "for c in range(a,b + 1):  \n",
        "   if c > 1:  \n",
        "       for i in range(2,c):  \n",
        "           if (c % i) == 0:  \n",
        "               break  \n",
        "       else:  \n",
        "           print(c)  "
      ],
      "execution_count": null,
      "outputs": [
        {
          "output_type": "stream",
          "name": "stdout",
          "text": [
            "nhap gioi han duoi: 15\n",
            "nhap gioi han tren: 75\n",
            "17\n",
            "19\n",
            "23\n",
            "29\n",
            "31\n",
            "37\n",
            "41\n",
            "43\n",
            "47\n",
            "53\n",
            "59\n",
            "61\n",
            "67\n",
            "71\n",
            "73\n"
          ]
        }
      ]
    },
    {
      "cell_type": "markdown",
      "metadata": {
        "id": "lhNo9W_GZyFL"
      },
      "source": [
        "B11"
      ]
    },
    {
      "cell_type": "code",
      "metadata": {
        "colab": {
          "base_uri": "https://localhost:8080/"
        },
        "id": "maxyv6AAaLbf",
        "outputId": "57c651dd-eb58-471a-827c-f9f3678c5799"
      },
      "source": [
        "b=1\n",
        "c=1\n",
        "d=1\n",
        "a=0\n",
        "while a<10:\n",
        "  d=c+b\n",
        "  c=b\n",
        "  b=d\n",
        "  a=a+1\n",
        "  print(d)"
      ],
      "execution_count": null,
      "outputs": [
        {
          "output_type": "stream",
          "name": "stdout",
          "text": [
            "2\n",
            "3\n",
            "5\n",
            "8\n",
            "13\n",
            "21\n",
            "34\n",
            "55\n",
            "89\n",
            "144\n"
          ]
        }
      ]
    },
    {
      "cell_type": "markdown",
      "metadata": {
        "id": "hVtiTNjHgu0X"
      },
      "source": [
        "B12"
      ]
    },
    {
      "cell_type": "code",
      "metadata": {
        "colab": {
          "base_uri": "https://localhost:8080/"
        },
        "id": "gIXigdyJgvaf",
        "outputId": "5063ed29-4092-469d-e1b3-d1247454e333"
      },
      "source": [
        "x=int(input())\n",
        "a=1\n",
        "i=1\n",
        "while i<=x:\n",
        "  a=a*i\n",
        "  i=i+1\n",
        "  if i>x:\n",
        "    print(a)"
      ],
      "execution_count": null,
      "outputs": [
        {
          "output_type": "stream",
          "name": "stdout",
          "text": [
            "7\n",
            "5040\n"
          ]
        }
      ]
    },
    {
      "cell_type": "markdown",
      "metadata": {
        "id": "4tshYE5rb_T_"
      },
      "source": [
        "B13"
      ]
    },
    {
      "cell_type": "code",
      "metadata": {
        "colab": {
          "base_uri": "https://localhost:8080/"
        },
        "id": "vPIFQobccAEA",
        "outputId": "f607443c-3d23-40a5-cfbc-03595fb1406d"
      },
      "source": [
        "a=int(input(\"nhap so x: \"))\n",
        "b=0\n",
        "c=0\n",
        "d=0\n",
        "while a>0:\n",
        "  b=a%10\n",
        "  a=a//10\n",
        "  c=c*10+b\n",
        "  if a==0:\n",
        "    print(c)"
      ],
      "execution_count": null,
      "outputs": [
        {
          "output_type": "stream",
          "name": "stdout",
          "text": [
            "nhap so x: 227\n",
            "722\n"
          ]
        }
      ]
    },
    {
      "cell_type": "markdown",
      "metadata": {
        "id": "zJFuuAAUgU3h"
      },
      "source": [
        "B14"
      ]
    },
    {
      "cell_type": "code",
      "metadata": {
        "colab": {
          "base_uri": "https://localhost:8080/"
        },
        "id": "SnmUSQm6gVpy",
        "outputId": "6e3fdb97-2551-489b-d448-86e1f8b029a0"
      },
      "source": [
        "a = [1, 2, 3, 4, 5]\n",
        "for i in range(0, len(a), 2):    \n",
        "    print(a[i]);"
      ],
      "execution_count": null,
      "outputs": [
        {
          "output_type": "stream",
          "name": "stdout",
          "text": [
            "1\n",
            "3\n",
            "5\n"
          ]
        }
      ]
    },
    {
      "cell_type": "markdown",
      "metadata": {
        "id": "2N2Tr7JDitgi"
      },
      "source": [
        "B15"
      ]
    },
    {
      "cell_type": "code",
      "metadata": {
        "colab": {
          "base_uri": "https://localhost:8080/"
        },
        "id": "nahjz9_diuZ4",
        "outputId": "31b392a7-a07e-437b-db88-6e657650fd9e"
      },
      "source": [
        "x=int(input(\"nhap x: \"))\n",
        "b=1\n",
        "s=0\n",
        "c=0\n",
        "while b<=x:\n",
        "   s=b*b*b\n",
        "   b=b+1\n",
        "   c=c+s\n",
        "   if b>x:\n",
        "     print(c)"
      ],
      "execution_count": null,
      "outputs": [
        {
          "output_type": "stream",
          "name": "stdout",
          "text": [
            "nhap x: 5\n",
            "225\n"
          ]
        }
      ]
    }
  ]
}