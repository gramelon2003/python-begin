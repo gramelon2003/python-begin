{
  "nbformat": 4,
  "nbformat_minor": 0,
  "metadata": {
    "colab": {
      "name": "BT_Sắp_Xếp.ipynb",
      "provenance": [],
      "authorship_tag": "ABX9TyNMXCSX8uaKNgOcPkF9eRrw",
      "include_colab_link": true
    },
    "kernelspec": {
      "name": "python3",
      "display_name": "Python 3"
    },
    "language_info": {
      "name": "python"
    }
  },
  "cells": [
    {
      "cell_type": "markdown",
      "metadata": {
        "id": "view-in-github",
        "colab_type": "text"
      },
      "source": [
        "<a href=\"https://colab.research.google.com/github/gramelon2003/python-begin/blob/master/BT_S%E1%BA%AFp_X%E1%BA%BFp.ipynb\" target=\"_parent\"><img src=\"https://colab.research.google.com/assets/colab-badge.svg\" alt=\"Open In Colab\"/></a>"
      ]
    },
    {
      "cell_type": "markdown",
      "metadata": {
        "id": "y05GSNjj64yn"
      },
      "source": [
        "B1"
      ]
    },
    {
      "cell_type": "code",
      "metadata": {
        "colab": {
          "base_uri": "https://localhost:8080/"
        },
        "id": "LUX5MZBL6fVQ",
        "outputId": "f05bfb96-485f-4d32-bd27-f7c5e14bc311"
      },
      "source": [
        "x = [int(input()) for i in range(0,10)]\n",
        "x.sort()\n",
        "print(x)"
      ],
      "execution_count": null,
      "outputs": [
        {
          "output_type": "stream",
          "name": "stdout",
          "text": [
            "1\n",
            "7\n",
            "12\n",
            "25\n",
            "42\n",
            "11\n",
            "37\n",
            "6\n",
            "18\n",
            "5\n",
            "[1, 5, 6, 7, 11, 12, 18, 25, 37, 42]\n"
          ]
        }
      ]
    },
    {
      "cell_type": "markdown",
      "metadata": {
        "id": "yqbs_b2K8NVY"
      },
      "source": [
        "B2"
      ]
    },
    {
      "cell_type": "markdown",
      "metadata": {
        "id": "GqyBrPWj9Umm"
      },
      "source": [
        "2.1"
      ]
    },
    {
      "cell_type": "code",
      "metadata": {
        "colab": {
          "base_uri": "https://localhost:8080/"
        },
        "id": "1s9UJ3a-8OIw",
        "outputId": "b0cdc221-0522-4e4c-e22a-8c0b2ad39edc"
      },
      "source": [
        "def nhap_danh_sach_so_nguyen():\n",
        "    n = int(input(\"nhap so phan tu: \"))\n",
        "    x = [int(input()) for i in range(0,n)]\n",
        "    print(x)\n",
        "nhap_danh_sach_so_nguyen()"
      ],
      "execution_count": null,
      "outputs": [
        {
          "output_type": "stream",
          "name": "stdout",
          "text": [
            "nhap so phan tu: 7\n",
            "4\n",
            "8\n",
            "1\n",
            "15\n",
            "2\n",
            "6\n",
            "8\n",
            "[4, 8, 1, 15, 2, 6, 8]\n"
          ]
        }
      ]
    },
    {
      "cell_type": "markdown",
      "metadata": {
        "id": "LY6YLkHR9d6j"
      },
      "source": [
        "2.2"
      ]
    },
    {
      "cell_type": "code",
      "metadata": {
        "colab": {
          "base_uri": "https://localhost:8080/"
        },
        "id": "rtn92-sf9ezU",
        "outputId": "ffa60016-7de0-4345-bd26-ea87229d1886"
      },
      "source": [
        "def sap_xep_danh_sach(x):\n",
        "    n = int(input(\"nhap so phan tu: \"))\n",
        "    x = [int(input()) for i in range(0,n)]\n",
        "    x.sort()\n",
        "    print(x)\n",
        "sap_xep_danh_sach(x)"
      ],
      "execution_count": null,
      "outputs": [
        {
          "output_type": "stream",
          "name": "stdout",
          "text": [
            "nhap so phan tu: 7\n",
            "4\n",
            "6\n",
            "1\n",
            "2\n",
            "89\n",
            "2\n",
            "15\n",
            "[1, 2, 2, 4, 6, 15, 89]\n"
          ]
        }
      ]
    },
    {
      "cell_type": "markdown",
      "metadata": {
        "id": "h2UL67o5-9zv"
      },
      "source": [
        "2.3"
      ]
    },
    {
      "cell_type": "code",
      "metadata": {
        "colab": {
          "base_uri": "https://localhost:8080/"
        },
        "id": "9_LbbPXf-_Ql",
        "outputId": "7234c90a-be81-41b6-9ec8-70e8951c73ac"
      },
      "source": [
        "def main():\n",
        "    nhap_danh_sach_so_nguyen()\n",
        "    sap_xep_danh_sach(x)\n",
        "main()"
      ],
      "execution_count": null,
      "outputs": [
        {
          "output_type": "stream",
          "name": "stdout",
          "text": [
            "nhap so phan tu: 4\n",
            "6\n",
            "15\n",
            "2\n",
            "3\n",
            "[6, 15, 2, 3]\n",
            "nhap so phan tu: 6\n",
            "15\n",
            "7\n",
            "8\n",
            "2\n",
            "22\n",
            "16\n",
            "[2, 7, 8, 15, 16, 22]\n"
          ]
        }
      ]
    },
    {
      "cell_type": "markdown",
      "metadata": {
        "id": "NRpwrgFE_8Z3"
      },
      "source": [
        "B3"
      ]
    },
    {
      "cell_type": "code",
      "metadata": {
        "colab": {
          "base_uri": "https://localhost:8080/"
        },
        "id": "Ie3AjhwmCwG0",
        "outputId": "20f76d36-054a-42c1-8902-11a44df9c113"
      },
      "source": [
        "a = []\n",
        "for i in range(0,10000):\n",
        "    x = float(input(\"nhap so thuc x: \"))\n",
        "    a.append(x)\n",
        "    n = input(\"ban co muon cham dut chuong trinh khong: \")\n",
        "    if (n==\"n\") or (n==\"N\"):\n",
        "        break\n",
        "print(a)"
      ],
      "execution_count": null,
      "outputs": [
        {
          "output_type": "stream",
          "name": "stdout",
          "text": [
            "nhap so thuc x: 1.2\n",
            "ban co muon cham dut chuong trinh khong: y\n",
            "nhap so thuc x: 7.7\n",
            "ban co muon cham dut chuong trinh khong: a\n",
            "nhap so thuc x: 16.22\n",
            "ban co muon cham dut chuong trinh khong: u\n",
            "nhap so thuc x: 22.4\n",
            "ban co muon cham dut chuong trinh khong: n\n",
            "[1.2, 7.7, 16.22, 22.4]\n"
          ]
        }
      ]
    },
    {
      "cell_type": "markdown",
      "metadata": {
        "id": "P1-1RzyUEUH2"
      },
      "source": [
        "B4"
      ]
    },
    {
      "cell_type": "markdown",
      "metadata": {
        "id": "pTJhcKolXTrc"
      },
      "source": [
        "4.1"
      ]
    },
    {
      "cell_type": "code",
      "metadata": {
        "colab": {
          "base_uri": "https://localhost:8080/"
        },
        "id": "a6TaUruWWRbI",
        "outputId": "7ab01f28-8eb9-4e8f-f5a6-c74a7b6e0dde"
      },
      "source": [
        "def nhap_danh_sach_so_thuc():\n",
        "    a = []\n",
        "    for i in range(0,10000):\n",
        "        x = float(input(\"nhap so thuc x: \"))\n",
        "        a.append(x)\n",
        "        n = input(\"ban co muon cham dut chuong trinh khong: \")\n",
        "        if (n==\"n\") or (n==\"N\"):\n",
        "            break\n",
        "    print(a)\n",
        "nhap_danh_sach_so_thuc()"
      ],
      "execution_count": 3,
      "outputs": [
        {
          "output_type": "stream",
          "name": "stdout",
          "text": [
            "nhap so thuc x: 7\n",
            "ban co muon cham dut chuong trinh khong: a\n",
            "nhap so thuc x: 4\n",
            "ban co muon cham dut chuong trinh khong: c\n",
            "nhap so thuc x: 6.25\n",
            "ban co muon cham dut chuong trinh khong: b\n",
            "nhap so thuc x: 9.42\n",
            "ban co muon cham dut chuong trinh khong: n\n",
            "[7.0, 4.0, 6.25, 9.42]\n"
          ]
        }
      ]
    },
    {
      "cell_type": "markdown",
      "metadata": {
        "id": "4FFA7HirXS6V"
      },
      "source": [
        "4.2"
      ]
    },
    {
      "cell_type": "code",
      "metadata": {
        "colab": {
          "base_uri": "https://localhost:8080/"
        },
        "id": "SoMpVg5_jpIu",
        "outputId": "4313cf3a-ca5b-4228-edff-e6a45ee3fb3a"
      },
      "source": [
        "x = [1,7,15,23,44,108,76,12]\n",
        "def sap_xep_danh_sach_so_thuc():\n",
        "    c = sorted(x,reverse = True)\n",
        "    print(c)\n",
        "sap_xep_danh_sach_so_thuc()"
      ],
      "execution_count": 1,
      "outputs": [
        {
          "output_type": "stream",
          "name": "stdout",
          "text": [
            "[108, 76, 44, 23, 15, 12, 7, 1]\n"
          ]
        }
      ]
    },
    {
      "cell_type": "markdown",
      "metadata": {
        "id": "4Li8w0AomG05"
      },
      "source": [
        "4.3"
      ]
    },
    {
      "cell_type": "code",
      "metadata": {
        "colab": {
          "base_uri": "https://localhost:8080/"
        },
        "id": "Fdhb9w-CmGP5",
        "outputId": "46eb46f3-8fdf-4bfa-be76-0cbdebed674e"
      },
      "source": [
        "def main():\n",
        "    nhap_danh_sach_so_thuc()\n",
        "    sap_xep_danh_sach_so_thuc()\n",
        "main()"
      ],
      "execution_count": 4,
      "outputs": [
        {
          "output_type": "stream",
          "name": "stdout",
          "text": [
            "nhap so thuc x: 12\n",
            "ban co muon cham dut chuong trinh khong: a\n",
            "nhap so thuc x: 22\n",
            "ban co muon cham dut chuong trinh khong: t\n",
            "nhap so thuc x: 45.1\n",
            "ban co muon cham dut chuong trinh khong: c\n",
            "nhap so thuc x: 13.765\n",
            "ban co muon cham dut chuong trinh khong: n\n",
            "[12.0, 22.0, 45.1, 13.765]\n",
            "[108, 76, 44, 23, 15, 12, 7, 1]\n"
          ]
        }
      ]
    },
    {
      "cell_type": "markdown",
      "metadata": {
        "id": "a1UuEyt7mpTb"
      },
      "source": [
        "B5"
      ]
    },
    {
      "cell_type": "code",
      "metadata": {
        "colab": {
          "base_uri": "https://localhost:8080/"
        },
        "id": "7vMKWSfEmqRr",
        "outputId": "1277281f-a99a-4025-bb10-c044bf7e0843"
      },
      "source": [
        "import random\n",
        "n = int(input(\"nhap so phan tu: \"))\n",
        "max_value = int(input(\"nhap gia tri lon nhat: \"))\n",
        "c = []\n",
        "for i in range(0,n):\n",
        "    d = random.randint(0,max_value)\n",
        "    c.append(d)\n",
        "v = input(\"ban muon sap xep list theo kieu nao(t la tang con g la giam): \")\n",
        "if v == \"t\":\n",
        "  b = sorted(c, reverse= False)\n",
        "  print(b)\n",
        "elif v == \"g\":\n",
        "  b = sorted(c, reverse= True)\n",
        "else:\n",
        "  print(\"khong the sap xep\")"
      ],
      "execution_count": 6,
      "outputs": [
        {
          "output_type": "stream",
          "name": "stdout",
          "text": [
            "nhap so phan tu: 10\n",
            "nhap gia tri lon nhat: 100\n",
            "ban muon sap xep list theo kieu nao(t la tang con g la giam): t\n",
            "[6, 19, 40, 42, 46, 51, 58, 61, 79, 95]\n"
          ]
        }
      ]
    },
    {
      "cell_type": "markdown",
      "metadata": {
        "id": "zE0YDjTJo5vd"
      },
      "source": [
        "B6"
      ]
    },
    {
      "cell_type": "markdown",
      "metadata": {
        "id": "o6SsNlxTpJsx"
      },
      "source": [
        "6.1"
      ]
    },
    {
      "cell_type": "code",
      "metadata": {
        "id": "HBemZCp4o6ck"
      },
      "source": [
        "c = []\n",
        "def sinh_ngau_nhien_danh_sach_so_nguyen():\n",
        "    import random\n",
        "    n = int(input(\"nhap so phan tu: \"))\n",
        "    max_value = int(input(\"nhap gia tri lon nhat: \"))\n",
        "    for i in range(0,n):\n",
        "        d = random.randint(0,max_value)\n",
        "        c.append(d)\n",
        "    print(c)"
      ],
      "execution_count": 8,
      "outputs": []
    },
    {
      "cell_type": "markdown",
      "metadata": {
        "id": "vszTg7jsp0nk"
      },
      "source": [
        "6.2"
      ]
    },
    {
      "cell_type": "code",
      "metadata": {
        "id": "efZGnb7Op2Xc"
      },
      "source": [
        "def sap_xep_tang_dan():\n",
        "    d = sorted(c, reverse= False)\n",
        "    print(d)"
      ],
      "execution_count": 11,
      "outputs": []
    },
    {
      "cell_type": "markdown",
      "metadata": {
        "id": "HdLJz1e6qJ_D"
      },
      "source": [
        "6.3"
      ]
    },
    {
      "cell_type": "code",
      "metadata": {
        "id": "G9rncFJGqO64"
      },
      "source": [
        "def sap_xep_giam_dan():\n",
        "    d = sorted(c, reverse = True)\n",
        "    print(d)"
      ],
      "execution_count": 10,
      "outputs": []
    },
    {
      "cell_type": "markdown",
      "metadata": {
        "id": "Q6i12YOUqaV0"
      },
      "source": [
        "6.4"
      ]
    },
    {
      "cell_type": "code",
      "metadata": {
        "colab": {
          "base_uri": "https://localhost:8080/"
        },
        "id": "4HeP4nQrqnjh",
        "outputId": "a9914100-2199-4483-d9b4-9224a9ee9291"
      },
      "source": [
        "def main():\n",
        "    c = []\n",
        "    sinh_ngau_nhien_danh_sach_so_nguyen()\n",
        "    sap_xep_tang_dan()\n",
        "    sap_xep_giam_dan()\n",
        "main()"
      ],
      "execution_count": 12,
      "outputs": [
        {
          "output_type": "stream",
          "name": "stdout",
          "text": [
            "nhap so phan tu: 12\n",
            "nhap gia tri lon nhat: 125\n",
            "[85, 5, 30, 44, 122, 9, 117, 16, 89, 86, 77, 53]\n",
            "[5, 9, 16, 30, 44, 53, 77, 85, 86, 89, 117, 122]\n",
            "[122, 117, 89, 86, 85, 77, 53, 44, 30, 16, 9, 5]\n"
          ]
        }
      ]
    }
  ]
}