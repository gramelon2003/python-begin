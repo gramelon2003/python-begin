{
  "nbformat": 4,
  "nbformat_minor": 0,
  "metadata": {
    "colab": {
      "name": "BT if-else.ipynb",
      "provenance": [],
      "authorship_tag": "ABX9TyP+CmaV67lkoZO397tTnPho",
      "include_colab_link": true
    },
    "kernelspec": {
      "name": "python3",
      "display_name": "Python 3"
    },
    "language_info": {
      "name": "python"
    }
  },
  "cells": [
    {
      "cell_type": "markdown",
      "metadata": {
        "id": "view-in-github",
        "colab_type": "text"
      },
      "source": [
        "<a href=\"https://colab.research.google.com/github/gramelon2003/python-begin/blob/master/BT_if_else.ipynb\" target=\"_parent\"><img src=\"https://colab.research.google.com/assets/colab-badge.svg\" alt=\"Open In Colab\"/></a>"
      ]
    },
    {
      "cell_type": "markdown",
      "metadata": {
        "id": "yLa3_JPIUSWv"
      },
      "source": [
        "B1"
      ]
    },
    {
      "cell_type": "code",
      "metadata": {
        "colab": {
          "base_uri": "https://localhost:8080/"
        },
        "id": "L9GvD9IHTp30",
        "outputId": "27c366ae-aa05-45e9-cbaa-0807f2dffa75"
      },
      "source": [
        "x=float(input(\"nhap so can tim: \"))\n",
        "if x<0:\n",
        "   print(\"x la so am\")\n",
        "else:\n",
        "   print(\"x la so duong\")"
      ],
      "execution_count": 2,
      "outputs": [
        {
          "output_type": "stream",
          "name": "stdout",
          "text": [
            "nhap so can tim: 1002\n",
            "x la so duong\n"
          ]
        }
      ]
    },
    {
      "cell_type": "markdown",
      "metadata": {
        "id": "eZyZWr5zUUxy"
      },
      "source": [
        "B2"
      ]
    },
    {
      "cell_type": "code",
      "metadata": {
        "colab": {
          "base_uri": "https://localhost:8080/"
        },
        "id": "cOkjHaQjUVZR",
        "outputId": "3e757386-deaa-4a9e-9fc7-db971a127889"
      },
      "source": [
        "x=float(input(\"nhap x: \"))\n",
        "y=float(input(\"nhap y: \"))\n",
        "z=float(input(\"nhap z: \"))\n",
        "max =x\n",
        "if  y>max:\n",
        "  max =y\n",
        "if  z>max:\n",
        "  max =z\n",
        "print(\"so lon nhat la: \")\n",
        "print(max)"
      ],
      "execution_count": 9,
      "outputs": [
        {
          "output_type": "stream",
          "name": "stdout",
          "text": [
            "nhap x: 5\n",
            "nhap y: 22\n",
            "nhap z: 17\n",
            "so lon nhat la: \n",
            "22.0\n"
          ]
        }
      ]
    },
    {
      "cell_type": "markdown",
      "metadata": {
        "id": "do6PhlxSWAcT"
      },
      "source": [
        "B3"
      ]
    },
    {
      "cell_type": "code",
      "metadata": {
        "colab": {
          "base_uri": "https://localhost:8080/"
        },
        "id": "6WCXXfqHWBXo",
        "outputId": "b1e332e5-247a-42ff-f3cc-20fd497e07a9"
      },
      "source": [
        "x=float(input(\"nhap so can tim: \"))\n",
        "if x<0:\n",
        "   print(\"x la so am\")\n",
        "elif x==0:\n",
        "   print(\"x la so 0\")\n",
        "else:\n",
        "   print(\"x la so duong\")\n",
        "   if x<1:\n",
        "     print(\"x la so be\")\n",
        "   elif x>1000000:\n",
        "     print('x la so lon')"
      ],
      "execution_count": 11,
      "outputs": [
        {
          "output_type": "stream",
          "name": "stdout",
          "text": [
            "nhap so can tim: 15421757\n",
            "x la so duong\n",
            "x la so lon\n"
          ]
        }
      ]
    },
    {
      "cell_type": "markdown",
      "metadata": {
        "id": "Gx9Ym7qAXJ5s"
      },
      "source": [
        "B4"
      ]
    },
    {
      "cell_type": "code",
      "metadata": {
        "colab": {
          "base_uri": "https://localhost:8080/"
        },
        "id": "65tNutRKXaS4",
        "outputId": "12736feb-1aa0-4b46-8f43-ac1836a56f85"
      },
      "source": [
        "x=int(input(\"nhap so tu 1 den 7: \"))\n",
        "if x==1:\n",
        "  print(\"no la chu nhat\")\n",
        "if x==2:\n",
        "  print('no la thu hai')\n",
        "if x==3:\n",
        "  print('no la thu ba')\n",
        "if x==4:\n",
        "  print('no la thu tu')\n",
        "if x==5:\n",
        "  print('no la thu nam')\n",
        "if x==6:\n",
        "  print('no la thu sau')\n",
        "if x==7:\n",
        "  print('no la thu bay')"
      ],
      "execution_count": 13,
      "outputs": [
        {
          "output_type": "stream",
          "name": "stdout",
          "text": [
            "nhap so tu 1 den 7: 3\n",
            "no la thu ba\n"
          ]
        }
      ]
    },
    {
      "cell_type": "markdown",
      "metadata": {
        "id": "Kvz4eYS3YV2m"
      },
      "source": [
        "B5"
      ]
    },
    {
      "cell_type": "code",
      "metadata": {
        "colab": {
          "base_uri": "https://localhost:8080/"
        },
        "id": "4YBwj3EzYXXY",
        "outputId": "147227b0-eb91-4626-c84e-a0e6ae5cb3d7"
      },
      "source": [
        "x=float(input('nhap x: '))\n",
        "round(x,2)\n",
        "y=float(input('nhap y: '))\n",
        "round(y,2)\n",
        "if x==y:\n",
        "   print(\"x bang voi y\")\n",
        "else:\n",
        "   print(\"x khac y\")"
      ],
      "execution_count": 19,
      "outputs": [
        {
          "output_type": "stream",
          "name": "stdout",
          "text": [
            "nhap x: 25.586\n",
            "nhap y: 25.589\n",
            "x khac y\n"
          ]
        }
      ]
    }
  ]
}