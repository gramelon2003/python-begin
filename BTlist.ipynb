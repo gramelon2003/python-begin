{
  "nbformat": 4,
  "nbformat_minor": 0,
  "metadata": {
    "colab": {
      "name": "BTlist.ipynb",
      "provenance": [],
      "authorship_tag": "ABX9TyP6coNlfwAlQS28V9My0SK8",
      "include_colab_link": true
    },
    "kernelspec": {
      "name": "python3",
      "display_name": "Python 3"
    },
    "language_info": {
      "name": "python"
    }
  },
  "cells": [
    {
      "cell_type": "markdown",
      "metadata": {
        "id": "view-in-github",
        "colab_type": "text"
      },
      "source": [
        "<a href=\"https://colab.research.google.com/github/gramelon2003/python-begin/blob/master/BTlist.ipynb\" target=\"_parent\"><img src=\"https://colab.research.google.com/assets/colab-badge.svg\" alt=\"Open In Colab\"/></a>"
      ]
    },
    {
      "cell_type": "code",
      "metadata": {
        "colab": {
          "base_uri": "https://localhost:8080/"
        },
        "id": "tFXkCevSyWR0",
        "outputId": "91a578e7-d49b-4979-adaf-2ca7d42e38e7"
      },
      "source": [
        "x=[]\n",
        "x.append(18)\n",
        "x.append(\"Huế\")\n",
        "y=[12, 45, -1, -0.56, \"abc\"]\n",
        "x.extend(y)\n",
        "print(x)\n",
        "print(x[6])\n",
        "print(x[0])\n",
        "print(x[0:5])\n",
        "print(x[2:7])\n",
        "\n",
        "\n",
        "\n"
      ],
      "execution_count": 11,
      "outputs": [
        {
          "output_type": "stream",
          "name": "stdout",
          "text": [
            "[18, 'Huế', 12, 45, -1, -0.56, 'abc']\n",
            "abc\n",
            "18\n",
            "[18, 'Huế', 12, 45, -1]\n",
            "[12, 45, -1, -0.56, 'abc']\n"
          ]
        }
      ]
    }
  ]
}