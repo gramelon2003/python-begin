{
  "nbformat": 4,
  "nbformat_minor": 0,
  "metadata": {
    "colab": {
      "name": "Baitap.ipynb",
      "provenance": [],
      "authorship_tag": "ABX9TyPMc0c1LYXZFidHoKRflHvp",
      "include_colab_link": true
    },
    "kernelspec": {
      "name": "python3",
      "display_name": "Python 3"
    },
    "language_info": {
      "name": "python"
    }
  },
  "cells": [
    {
      "cell_type": "markdown",
      "metadata": {
        "id": "view-in-github",
        "colab_type": "text"
      },
      "source": [
        "<a href=\"https://colab.research.google.com/github/gramelon2003/python-begin/blob/master/Baitap.ipynb\" target=\"_parent\"><img src=\"https://colab.research.google.com/assets/colab-badge.svg\" alt=\"Open In Colab\"/></a>"
      ]
    },
    {
      "cell_type": "markdown",
      "metadata": {
        "id": "3st3OpBvxVRX"
      },
      "source": [
        "Bài 1:"
      ]
    },
    {
      "cell_type": "code",
      "metadata": {
        "colab": {
          "base_uri": "https://localhost:8080/"
        },
        "id": "SUJDaolovj7x",
        "outputId": "d262e28d-e3ce-49ce-cb80-c13d53a3bb52"
      },
      "source": [
        "a= int(input(\"a=\"))\n",
        "b= int(input(\"b=\"))\n",
        "c= a+b\n",
        "d= a*b\n",
        "e= a-b\n",
        "f= a%b\n",
        "g= a//b\n",
        "print(\"tong hai so la:\",c)\n",
        "print(\"tich hai so la:\",d)\n",
        "print(\"Hieu hai so la:\",e)\n",
        "print(\"chia phan du hai so:\",f)\n",
        "print(\"chia phan nguyen hai so:\",g)"
      ],
      "execution_count": 3,
      "outputs": [
        {
          "output_type": "stream",
          "name": "stdout",
          "text": [
            "a=15\n",
            "b=4\n",
            "tong hai so la: 19\n",
            "tich hai so la: 60\n",
            "Hieu hai so la: 11\n",
            "chia phan du hai so: 3\n",
            "chia phan nguyen hai so: 3\n"
          ]
        }
      ]
    },
    {
      "cell_type": "markdown",
      "metadata": {
        "id": "_L4TUfcmxbYX"
      },
      "source": [
        "Bài 2"
      ]
    },
    {
      "cell_type": "code",
      "metadata": {
        "colab": {
          "base_uri": "https://localhost:8080/"
        },
        "id": "2wPOfxSrxcp9",
        "outputId": "e400ed4f-14bd-4326-e24d-588bfb2c4d9f"
      },
      "source": [
        "a=float(input(\"nhap a: \"))\n",
        "b=float(input(\"nhap b: \"))\n",
        "c=a+b\n",
        "d=a*b\n",
        "e=a-b\n",
        "f=a/b\n",
        "print(\"tong cua hai so: \",c)\n",
        "print(\"tich cua hai so: \",d)\n",
        "print(\"hieu cua hai so: \",e)\n",
        "print(\"thuong cua hai so: \",f)"
      ],
      "execution_count": 5,
      "outputs": [
        {
          "output_type": "stream",
          "name": "stdout",
          "text": [
            "nhap a: 11.24\n",
            "nhap b: 2.12\n",
            "tong cua hai so:  13.36\n",
            "tich cua hai so:  23.8288\n",
            "hieu cua hai so:  9.120000000000001\n",
            "thuong cua hai so:  5.30188679245283\n"
          ]
        }
      ]
    },
    {
      "cell_type": "markdown",
      "metadata": {
        "id": "6ksu-7wS0rXg"
      },
      "source": [
        "Bài 3"
      ]
    },
    {
      "cell_type": "code",
      "metadata": {
        "colab": {
          "base_uri": "https://localhost:8080/"
        },
        "id": "c4vjVt640sdC",
        "outputId": "35b18e28-12e1-4e2c-ed8d-4cd83a416686"
      },
      "source": [
        "import math\n",
        "x=float(input(\"nhap x: \"))\n",
        "b=abs(x)\n",
        "c=int(x)\n",
        "d=float(x)\n",
        "print(\"tri tuyet doi cua x: \",b)\n",
        "print(\"phan nguyen cua x: \",c)\n",
        "print(\"chuyen doi so thuc x: \",d)\n",
        "y=float(input(\"nhap y: \"))\n",
        "e=x**y \n",
        "print(\"x mu y = \",e)\n",
        "f= math.sqrt(x)\n",
        "print(\"can bac hai cua x: \",f)"
      ],
      "execution_count": 11,
      "outputs": [
        {
          "output_type": "stream",
          "name": "stdout",
          "text": [
            "nhap x: 5.22\n",
            "tri tuyet doi cua x:  5.22\n",
            "phan nguyen cua x:  5\n",
            "chuyen doi so thuc x:  5.22\n",
            "nhap y: 3\n",
            "x mu y =  142.23664799999997\n",
            "can bac hai cua x:  2.2847319317591723\n"
          ]
        }
      ]
    },
    {
      "cell_type": "markdown",
      "metadata": {
        "id": "QlFELYrV27KB"
      },
      "source": [
        "Bài 4"
      ]
    },
    {
      "cell_type": "code",
      "metadata": {
        "colab": {
          "base_uri": "https://localhost:8080/"
        },
        "id": "sMXzFbpY28Ri",
        "outputId": "489ea8ae-f687-4c8e-8576-ee42cf9faf12"
      },
      "source": [
        "a=float(input(\"nhap a: \"))\n",
        "b=float(input(\"nhap b: \"))\n",
        "if a>=b: \n",
        "    print(\"a>=b\")\n",
        "if a<=b:\n",
        "    print(\"a<=b\")\n",
        "if a>b:\n",
        "    print(\"a>b\")\n",
        "if a<b:\n",
        "    print(\"a<b\")\n",
        "if a!=b:\n",
        "    print('a #b')\n",
        "    "
      ],
      "execution_count": 12,
      "outputs": [
        {
          "output_type": "stream",
          "name": "stdout",
          "text": [
            "nhap a: 7\n",
            "nhap b: 12\n",
            "a<=b\n",
            "a<b\n",
            "a #b\n"
          ]
        }
      ]
    },
    {
      "cell_type": "markdown",
      "metadata": {
        "id": "J8s8eJ-H5cJR"
      },
      "source": [
        "Bài 5"
      ]
    },
    {
      "cell_type": "code",
      "metadata": {
        "colab": {
          "base_uri": "https://localhost:8080/"
        },
        "id": "5kJD1NFC5eTx",
        "outputId": "679c6858-c168-46c6-83d0-6c6c92b6de91"
      },
      "source": [
        "#.1\n",
        "x=input(\"nhap chuoi: \")\n",
        "print(x.upper())"
      ],
      "execution_count": 14,
      "outputs": [
        {
          "output_type": "stream",
          "name": "stdout",
          "text": [
            "nhap chuoi: thu hai ngay w\n",
            "THU HAI NGAY W\n"
          ]
        }
      ]
    },
    {
      "cell_type": "code",
      "metadata": {
        "colab": {
          "base_uri": "https://localhost:8080/"
        },
        "id": "IFQhrAPg6JGe",
        "outputId": "63eee6c8-806e-4ecb-e23f-983965cc3639"
      },
      "source": [
        "#.2\n",
        "y=input(\"nhap chuoi: \")\n",
        "print(y.lower())"
      ],
      "execution_count": 17,
      "outputs": [
        {
          "output_type": "stream",
          "name": "stdout",
          "text": [
            "nhap chuoi: PYTHON IS AWESOME\n",
            "python is awesome\n"
          ]
        }
      ]
    },
    {
      "cell_type": "markdown",
      "metadata": {
        "id": "4Tx1qdhq6h_a"
      },
      "source": [
        "Bài 6"
      ]
    },
    {
      "cell_type": "code",
      "metadata": {
        "colab": {
          "base_uri": "https://localhost:8080/"
        },
        "id": "Va15Ter_6jiT",
        "outputId": "ab7f0a4c-eb93-49b8-acf5-424e71ac4ff5"
      },
      "source": [
        "x=\"\"\" \tNhất tiền tệ\n",
        "\n",
        "Nhì quan hệ\n",
        "\n",
        "Ba hậu duệ\n",
        "\n",
        "Bốn trí tuệ\"\"\"\n",
        "print(x)"
      ],
      "execution_count": 21,
      "outputs": [
        {
          "output_type": "stream",
          "name": "stdout",
          "text": [
            " \tNhất tiền tệ\n",
            "\n",
            "Nhì quan hệ\n",
            "\n",
            "Ba hậu duệ\n",
            "\n",
            "Bốn trí tuệ\n"
          ]
        }
      ]
    }
  ]
}