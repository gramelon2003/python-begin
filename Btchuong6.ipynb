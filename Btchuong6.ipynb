{
  "nbformat": 4,
  "nbformat_minor": 0,
  "metadata": {
    "colab": {
      "name": "Btchuong6.ipynb",
      "provenance": [],
      "authorship_tag": "ABX9TyNYB2AVDGkTVLjuXms7D84z",
      "include_colab_link": true
    },
    "kernelspec": {
      "name": "python3",
      "display_name": "Python 3"
    },
    "language_info": {
      "name": "python"
    }
  },
  "cells": [
    {
      "cell_type": "markdown",
      "metadata": {
        "id": "view-in-github",
        "colab_type": "text"
      },
      "source": [
        "<a href=\"https://colab.research.google.com/github/gramelon2003/python-begin/blob/master/Btchuong6.ipynb\" target=\"_parent\"><img src=\"https://colab.research.google.com/assets/colab-badge.svg\" alt=\"Open In Colab\"/></a>"
      ]
    },
    {
      "cell_type": "markdown",
      "metadata": {
        "id": "TO7qxd0sSXE8"
      },
      "source": [
        "Bài 1"
      ]
    },
    {
      "cell_type": "code",
      "metadata": {
        "colab": {
          "base_uri": "https://localhost:8080/"
        },
        "id": "l7xV4IoVRqDx",
        "outputId": "13e79136-a28e-4061-b2d4-1e26d527798c"
      },
      "source": [
        "def a():\n",
        "  print(\"Lập trình Java 2021\")\n",
        "a()"
      ],
      "execution_count": null,
      "outputs": [
        {
          "output_type": "stream",
          "name": "stdout",
          "text": [
            "Lập trình Java 2021\n"
          ]
        }
      ]
    },
    {
      "cell_type": "markdown",
      "metadata": {
        "id": "u8cGNVQ3SaGd"
      },
      "source": [
        "Bài 2"
      ]
    },
    {
      "cell_type": "code",
      "metadata": {
        "colab": {
          "base_uri": "https://localhost:8080/"
        },
        "id": "AQ54A9yISdEk",
        "outputId": "3b26cb48-3ae9-4e7c-95c6-6f2d049cce53"
      },
      "source": [
        "\n",
        "a = input(\"nhập chuỗi: \")\n",
        "def b():\n",
        "  print(a)\n",
        "b()"
      ],
      "execution_count": null,
      "outputs": [
        {
          "output_type": "stream",
          "name": "stdout",
          "text": [
            "nhập chuỗi: Hôm nay là thứ 7\n",
            "Hôm nay là thứ 7\n"
          ]
        }
      ]
    },
    {
      "cell_type": "markdown",
      "metadata": {
        "id": "W8xK15TjS9ox"
      },
      "source": [
        "B3"
      ]
    },
    {
      "cell_type": "code",
      "metadata": {
        "colab": {
          "base_uri": "https://localhost:8080/"
        },
        "id": "oiCeNnqXS_Mj",
        "outputId": "39ff2b7d-73d5-4ea8-f3c3-a3ce7e0f9e85"
      },
      "source": [
        "x = int(input(\"nhập số: \"))\n",
        "while x<0:\n",
        "   print(\"số không hợp lệ: \")\n",
        "   x=int(input(\"nhập số: \"))\n",
        "c=input(\"nhập chuỗi: \")\n",
        "def inchuoi():\n",
        "  for i in range(0,x):\n",
        "    print(c)\n",
        "inchuoi()"
      ],
      "execution_count": null,
      "outputs": [
        {
          "output_type": "stream",
          "name": "stdout",
          "text": [
            "nhập số: -5\n",
            "số không hợp lệ: \n",
            "nhập số: 4\n",
            "nhập chuỗi: Thứ ba học Python\n",
            "Thứ ba học Python\n",
            "Thứ ba học Python\n",
            "Thứ ba học Python\n",
            "Thứ ba học Python\n"
          ]
        }
      ]
    },
    {
      "cell_type": "markdown",
      "metadata": {
        "id": "i-AmjlqdWT_c"
      },
      "source": [
        "B4"
      ]
    },
    {
      "cell_type": "code",
      "metadata": {
        "colab": {
          "base_uri": "https://localhost:8080/"
        },
        "id": "j5B8Q26QWVKA",
        "outputId": "b588d215-30be-43dc-e6c8-5824cb83e8e1"
      },
      "source": [
        "\n",
        "def giaiphuongtrinhbac1():\n",
        "   a=int(input(\"nhập a: \"))\n",
        "   b=int(input(\"nhập b: \"))\n",
        "   x=0\n",
        "   if a==0:\n",
        "     if b==0:\n",
        "        print(\"phương trình có vô số nghiệm\")\n",
        "     if b!=0:\n",
        "        print(\"phương trình vô nghiệm\")\n",
        "   else:\n",
        "     x=-b/a\n",
        "     print(\"hệ phương trình có nghiệm là: \",x)\n",
        "giaiphuongtrinhbac1 ()"
      ],
      "execution_count": 46,
      "outputs": [
        {
          "output_type": "stream",
          "name": "stdout",
          "text": [
            "nhập a: 8\n",
            "nhập b: 9\n",
            "hệ phương trình có nghiệm là:  -1.125\n"
          ]
        }
      ]
    },
    {
      "cell_type": "markdown",
      "metadata": {
        "id": "LsIPEmtGZrX9"
      },
      "source": [
        "B5"
      ]
    },
    {
      "cell_type": "code",
      "metadata": {
        "id": "PrW6-9W3ZsxI",
        "colab": {
          "base_uri": "https://localhost:8080/"
        },
        "outputId": "2609bd7e-1cd9-4daa-bfb9-fec0f678429a"
      },
      "source": [
        "def giaiptbac2():\n",
        "  import math\n",
        "  a=int(input(\"nhập a: \"))\n",
        "  b=int(input(\"nhập b: \"))\n",
        "  c=int(input(\"nhập c: \"))\n",
        "  x=0\n",
        "  if a==0:\n",
        "     if b==0:\n",
        "        print(\"ptvn\")\n",
        "     else:\n",
        "        giaiphuongtrinhbac1 ()\n",
        "  if a!=0:\n",
        "     delta=b**2-4*a*c\n",
        "     if delta<0:\n",
        "        print(\"ptvn\")\n",
        "     elif delta==0:\n",
        "        print(\"x1= x2= \",-b/(2*a))\n",
        "     else:\n",
        "        candelta=math.sqrt(delta)\n",
        "        x1=(-b+candelta)/(2*a)\n",
        "        x2=(-b-candelta)/(2*a)\n",
        "        print(\"x1= \",x1)\n",
        "        print(\"x2= \",x2)\n",
        "giaiptbac2()"
      ],
      "execution_count": 45,
      "outputs": [
        {
          "output_type": "stream",
          "name": "stdout",
          "text": [
            "nhập a: 1\n",
            "nhập b: -2\n",
            "nhập c: 1\n",
            "x1= x2=  1.0\n"
          ]
        }
      ]
    },
    {
      "cell_type": "markdown",
      "metadata": {
        "id": "T2vd3vC0XjND"
      },
      "source": [
        "B6"
      ]
    },
    {
      "cell_type": "code",
      "metadata": {
        "colab": {
          "base_uri": "https://localhost:8080/"
        },
        "id": "hcvMkMJgX0OX",
        "outputId": "140009da-c80c-42bd-b6de-d18e29007de8"
      },
      "source": [
        "def muongiaiptnao():\n",
        "  x=print(\"ban muon giai phuong trinh bac 1 hay bac 2\")\n",
        "  y=int(input(\"nhap 1 la ptb1, nhap 2 la ptb2: \"))\n",
        "  if y==1:\n",
        "    giaiphuongtrinhbac1()\n",
        "  elif y==2:\n",
        "    giaiptbac2()\n",
        "muongiaiptnao()"
      ],
      "execution_count": 59,
      "outputs": [
        {
          "output_type": "stream",
          "name": "stdout",
          "text": [
            "ban muon giai phuong trinh bac 1 hay bac 2\n",
            "nhap 1 la ptb1, nhap 2 la ptb2: 2\n",
            "nhập a: 1\n",
            "nhập b: -4\n",
            "nhập c: 3\n",
            "x1=  3.0\n",
            "x2=  1.0\n"
          ]
        }
      ]
    },
    {
      "cell_type": "markdown",
      "metadata": {
        "id": "efcsrt_Dcy1E"
      },
      "source": [
        "B7"
      ]
    },
    {
      "cell_type": "code",
      "metadata": {
        "colab": {
          "base_uri": "https://localhost:8080/"
        },
        "id": "0LIXFuYDczxU",
        "outputId": "7483c45d-b8b0-47fa-bbc4-eb1563ba515d"
      },
      "source": [
        "muongiaiptnao()\n",
        "a=input(\"muon giai tiep khong: \")\n",
        "i=0\n",
        "while i<1000:\n",
        "  i=i+1\n",
        "  if a==\"có\":\n",
        "    muongiaiptnao()\n",
        "  elif a==\"không\" or a==\"khong\":\n",
        "    break\n",
        "\n",
        "  "
      ],
      "execution_count": 66,
      "outputs": [
        {
          "name": "stdout",
          "output_type": "stream",
          "text": [
            "ban muon giai phuong trinh bac 1 hay bac 2\n",
            "nhap 1 la ptb1, nhap 2 la ptb2: 1\n",
            "nhập a: 4\n",
            "nhập b: 3\n",
            "hệ phương trình có nghiệm là:  -0.75\n",
            "muon giai tiep khong: khong\n"
          ]
        }
      ]
    }
  ]
}