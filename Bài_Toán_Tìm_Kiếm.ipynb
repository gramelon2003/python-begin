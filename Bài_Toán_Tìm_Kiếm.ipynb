{
  "nbformat": 4,
  "nbformat_minor": 0,
  "metadata": {
    "colab": {
      "name": "Bài_Toán_Tìm_Kiếm.ipynb",
      "provenance": [],
      "authorship_tag": "ABX9TyPuk38QIp7DvuDqgvyRK6Dk",
      "include_colab_link": true
    },
    "kernelspec": {
      "name": "python3",
      "display_name": "Python 3"
    },
    "language_info": {
      "name": "python"
    }
  },
  "cells": [
    {
      "cell_type": "markdown",
      "metadata": {
        "id": "view-in-github",
        "colab_type": "text"
      },
      "source": [
        "<a href=\"https://colab.research.google.com/github/gramelon2003/python-begin/blob/master/B%C3%A0i_To%C3%A1n_T%C3%ACm_Ki%E1%BA%BFm.ipynb\" target=\"_parent\"><img src=\"https://colab.research.google.com/assets/colab-badge.svg\" alt=\"Open In Colab\"/></a>"
      ]
    },
    {
      "cell_type": "markdown",
      "metadata": {
        "id": "tWcMNV9Zy2k9"
      },
      "source": [
        "B1"
      ]
    },
    {
      "cell_type": "code",
      "metadata": {
        "colab": {
          "base_uri": "https://localhost:8080/"
        },
        "id": "aK51y8K9zMOJ",
        "outputId": "dd587ead-2e82-4e42-c65b-40c03e476d9d"
      },
      "source": [
        "import random\n",
        "x = int(input(\"nhap so nguyen dau day: \"))\n",
        "y = int(input(\"nhap so nguyen cuoi day: \"))\n",
        "n = int(input(\"nhap so so hang: \"))\n",
        "a = []\n",
        "for i in range(0,n):\n",
        "    t = random.randint(x,y+1)\n",
        "    a.append(t)\n",
        "print(a)\n",
        "x = int(input(\"nhap so nguyen can tim: \"))\n",
        "for i in range(0,n):\n",
        "    b = int(a[i])\n",
        "    if x == b:\n",
        "        print(\"so hang xuat hien tai vi tri thu: \",i)\n",
        "        break\n",
        "    elif x != b:\n",
        "        if i == (n-1):\n",
        "            print(\"so can tim khong xuat hien\")\n",
        "        continue \n",
        "    "
      ],
      "execution_count": 46,
      "outputs": [
        {
          "output_type": "stream",
          "name": "stdout",
          "text": [
            "nhap so nguyen dau day: 1\n",
            "nhap so nguyen cuoi day: 50\n",
            "nhap so so hang: 15\n",
            "[7, 8, 19, 46, 24, 49, 22, 25, 17, 29, 29, 14, 51, 31, 38]\n",
            "nhap so nguyen can tim: 49\n",
            "so hang xuat hien tai vi tri thu:  5\n"
          ]
        }
      ]
    },
    {
      "cell_type": "markdown",
      "metadata": {
        "id": "48XFwcHamVd3"
      },
      "source": [
        "B2"
      ]
    },
    {
      "cell_type": "code",
      "metadata": {
        "colab": {
          "base_uri": "https://localhost:8080/"
        },
        "id": "CgKWrZwVmUWI",
        "outputId": "60ef897d-c381-4eda-a235-afc5b436f847"
      },
      "source": [
        "import random\n",
        "x = int(input(\"nhap so nguyen dau day: \"))\n",
        "y = int(input(\"nhap so nguyen cuoi day: \"))\n",
        "n = int(input(\"nhap so so hang: \"))\n",
        "a = []\n",
        "for i in range(0,n):\n",
        "    t = random.randint(x,y+1)\n",
        "    a.append(t)\n",
        "print(a)\n",
        "x = int(input(\"nhap so nguyen can tim: \"))\n",
        "for i in range(0,n):\n",
        "    b = int(a[i])\n",
        "    if x == b:\n",
        "        print(\"so hang xuat hien tai vi tri thu: \",i)\n",
        "        print(\"so buoc da lap: \",i+1)\n",
        "        break\n",
        "    elif x != b:\n",
        "        if i == (n-1):\n",
        "            print(\"so can tim khong xuat hien\")\n",
        "        continue \n",
        "    \n",
        "    "
      ],
      "execution_count": 45,
      "outputs": [
        {
          "output_type": "stream",
          "name": "stdout",
          "text": [
            "nhap so nguyen dau day: 1\n",
            "nhap so nguyen cuoi day: 45\n",
            "nhap so so hang: 20\n",
            "[26, 24, 13, 23, 14, 32, 30, 38, 12, 31, 19, 39, 19, 32, 33, 31, 30, 3, 20, 45]\n",
            "nhap so nguyen can tim: 14\n",
            "so hang xuat hien tai vi tri thu:  4\n",
            "so buoc da lap:  5\n"
          ]
        }
      ]
    },
    {
      "cell_type": "markdown",
      "metadata": {
        "id": "6y6PEKSOzXLP"
      },
      "source": [
        "B3"
      ]
    },
    {
      "cell_type": "code",
      "metadata": {
        "colab": {
          "base_uri": "https://localhost:8080/"
        },
        "id": "WkFNkikIy3XU",
        "outputId": "0a011279-7836-40c2-cb44-68c57290db52"
      },
      "source": [
        "import random\n",
        "x = int(input(\"nhap so nguyen dau day: \"))\n",
        "y = int(input(\"nhap so nguyen cuoi day: \"))\n",
        "n = int(input(\"nhap so so hang: \"))\n",
        "a = []\n",
        "for i in range(0,n):\n",
        "    t = random.randint(x,y+1)\n",
        "    a.append(t)\n",
        "print(a)\n",
        "a.sort()\n",
        "print(\"danh sach da duoc sap xep lai theo chieu tang dan\")\n",
        "print(a)\n",
        "x = int(input(\"nhap so nguyen can tim: \"))\n",
        "for i in range(0,n):\n",
        "    b = int(a[i])\n",
        "    if x == b:\n",
        "        print(\"so hang xuat hien tai vi tri thu: \",i)\n",
        "        print(\"so buoc da lap: \",i+1)\n",
        "        break\n",
        "    elif x != b:\n",
        "        if i == (n-1):\n",
        "            print(\"so can tim khong xuat hien\")\n",
        "        continue \n",
        "    "
      ],
      "execution_count": 47,
      "outputs": [
        {
          "output_type": "stream",
          "name": "stdout",
          "text": [
            "nhap so nguyen dau day: 1\n",
            "nhap so nguyen cuoi day: 50\n",
            "nhap so so hang: 20\n",
            "[31, 38, 9, 40, 12, 37, 35, 38, 17, 13, 17, 5, 23, 12, 38, 10, 35, 19, 14, 43]\n",
            "danh sach da duoc sap xep lai theo chieu tang dan\n",
            "[5, 9, 10, 12, 12, 13, 14, 17, 17, 19, 23, 31, 35, 35, 37, 38, 38, 38, 40, 43]\n",
            "nhap so nguyen can tim: 17\n",
            "so hang xuat hien tai vi tri thu:  7\n",
            "so buoc da lap:  8\n"
          ]
        }
      ]
    },
    {
      "cell_type": "markdown",
      "metadata": {
        "id": "QLhpWN5l0bq_"
      },
      "source": [
        "B4"
      ]
    },
    {
      "cell_type": "code",
      "metadata": {
        "colab": {
          "base_uri": "https://localhost:8080/"
        },
        "id": "vRxWUcoA0cr-",
        "outputId": "396139ad-ca71-43e4-951d-3b2e6eb0b3ec"
      },
      "source": [
        "import random\n",
        "x = int(input(\"nhap so nguyen dau day: \"))\n",
        "y = int(input(\"nhap so nguyen cuoi day: \"))\n",
        "n = int(input(\"nhap so so hang: \"))\n",
        "a = []\n",
        "for i in range(0,n):\n",
        "    t = random.randint(x,y+1)\n",
        "    a.append(t)\n",
        "print(a)\n",
        "b = sorted(a)\n",
        "print(\"danh sach da duoc sap xep lai theo chieu tang dan\")\n",
        "print(b)\n",
        "x = int(input(\"nhap so nguyen can tim: \"))\n",
        "for i in range(0,n):\n",
        "    b = int(a[i])\n",
        "    if x == b:\n",
        "        print(\"so hang xuat hien tai vi tri thu: \",i)\n",
        "        print(\"so buoc da lap: \",i+1)\n",
        "    elif x != b:\n",
        "        if i == (n-1):\n",
        "            print(\"so can tim khong xuat hien\")\n",
        "        continue "
      ],
      "execution_count": 57,
      "outputs": [
        {
          "output_type": "stream",
          "name": "stdout",
          "text": [
            "nhap so nguyen dau day: 1\n",
            "nhap so nguyen cuoi day: 50\n",
            "nhap so so hang: 30\n",
            "[4, 42, 17, 22, 42, 19, 35, 21, 3, 27, 6, 48, 43, 13, 5, 7, 25, 46, 31, 51, 14, 24, 11, 2, 18, 6, 46, 7, 24, 1]\n",
            "danh sach da duoc sap xep lai theo chieu tang dan\n",
            "[1, 2, 3, 4, 5, 6, 6, 7, 7, 11, 13, 14, 17, 18, 19, 21, 22, 24, 24, 25, 27, 31, 35, 42, 42, 43, 46, 46, 48, 51]\n",
            "nhap so nguyen can tim: 7\n",
            "so hang xuat hien tai vi tri thu:  15\n",
            "so buoc da lap:  16\n",
            "so hang xuat hien tai vi tri thu:  27\n",
            "so buoc da lap:  28\n",
            "so can tim khong xuat hien\n"
          ]
        }
      ]
    }
  ]
}