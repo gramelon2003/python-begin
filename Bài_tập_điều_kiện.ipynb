{
  "nbformat": 4,
  "nbformat_minor": 0,
  "metadata": {
    "colab": {
      "name": "Bài tập điều kiện.ipynb",
      "provenance": [],
      "authorship_tag": "ABX9TyPSgapmaiT4dfLMaNfW60IR",
      "include_colab_link": true
    },
    "kernelspec": {
      "name": "python3",
      "display_name": "Python 3"
    },
    "language_info": {
      "name": "python"
    }
  },
  "cells": [
    {
      "cell_type": "markdown",
      "metadata": {
        "id": "view-in-github",
        "colab_type": "text"
      },
      "source": [
        "<a href=\"https://colab.research.google.com/github/gramelon2003/python-begin/blob/master/B%C3%A0i_t%E1%BA%ADp_%C4%91i%E1%BB%81u_ki%E1%BB%87n.ipynb\" target=\"_parent\"><img src=\"https://colab.research.google.com/assets/colab-badge.svg\" alt=\"Open In Colab\"/></a>"
      ]
    },
    {
      "cell_type": "markdown",
      "metadata": {
        "id": "huwBjmwMOB7J"
      },
      "source": [
        "B1: Write a Python program to find the number of days in a month."
      ]
    },
    {
      "cell_type": "code",
      "metadata": {
        "colab": {
          "base_uri": "https://localhost:8080/"
        },
        "id": "HYwACBw6N9u1",
        "outputId": "9e24cf23-4787-445b-aa7a-72b39aaebecd"
      },
      "source": [
        "x=int(input(\"nhap thang: \"))\n",
        "y=input(\"nhap nam: \")\n",
        "if x>=13 or x<1:\n",
        "  print(\"1 nam co 12 thang\")\n",
        "if x==2:\n",
        "  if y%4==0:\n",
        "    print(\"co 29 ngay\")\n",
        "if x==1:\n",
        "  print(\"co 31 ngay\")\n",
        "if x==3:\n",
        "  print(\"co 31 ngay\")\n",
        "if x==5:\n",
        "  print(\"co 31 ngay\")\n",
        "if x==7:\n",
        "  print(\"co 31 ngay\")\n",
        "if x==8:\n",
        "  print(\"co 31 ngay\")\n",
        "if x==10:\n",
        "  print(\"co 31 ngay\")\n",
        "if x==12:\n",
        "  print(\"co 31 ngay\")\n",
        "if x==4:\n",
        "  print(\"co 30 ngay\")\n",
        "if x==6:\n",
        "  print(\"co 30 ngay\")\n",
        "if x==9:\n",
        "  print(\"co 30 ngay\")\n",
        "if x==11:\n",
        "  print(\"co 30 ngay\")"
      ],
      "execution_count": null,
      "outputs": [
        {
          "output_type": "stream",
          "name": "stdout",
          "text": [
            "nhap thang: 9\n",
            "nhap nam: 2017\n",
            "co 30 ngay\n"
          ]
        }
      ]
    },
    {
      "cell_type": "markdown",
      "metadata": {
        "id": "1UMZWv9bRQ4x"
      },
      "source": [
        "B2: Write a Python program that takes the user to provide a single character from the alphabet. Print\n",
        "Vowel or Consonant, depending on the user input. If the user input is not a letter (between a and z\n",
        "or A and Z), or is a string of length > 1, print an error message."
      ]
    },
    {
      "cell_type": "code",
      "metadata": {
        "id": "8ZvVaK4GRRk6",
        "colab": {
          "base_uri": "https://localhost:8080/"
        },
        "outputId": "80db8abe-6f70-449a-cd52-98fa43a27a8b"
      },
      "source": [
        "x=input(\"input an alphabet: \")\n",
        "while (len(x)!=1) or (not x.isalpha()):\n",
        "  print(\"error massage\")\n",
        "  x=input(\"input an alphabet: \")\n",
        "if (x=='A' or x=='a' or x=='E' or x=='e' or x=='I'\n",
        "   or x=='i' or x=='O' or x=='o' or x=='U' or x=='u'):\n",
        "  print(\"vowel\")\n",
        "else:\n",
        "  print(\"Consonant\")"
      ],
      "execution_count": 40,
      "outputs": [
        {
          "output_type": "stream",
          "name": "stdout",
          "text": [
            "input an alphabet: =\n",
            "error massage\n",
            "input an alphabet: a\n",
            "vowel\n"
          ]
        }
      ]
    },
    {
      "cell_type": "markdown",
      "metadata": {
        "id": "Ncm2piVzbO9-"
      },
      "source": [
        "B3: Write a Python program that takes a year from user and print whether that year is a leap year or\n",
        "not"
      ]
    },
    {
      "cell_type": "code",
      "metadata": {
        "colab": {
          "base_uri": "https://localhost:8080/"
        },
        "id": "0VTvAxWObPuM",
        "outputId": "89e6d029-a4f3-4685-db25-710dcec3645b"
      },
      "source": [
        "x=int(input(\"nhap nam x: \"))\n",
        "if x%4==0:\n",
        "  print(\"x la nam nhuan\")\n",
        "else:\n",
        "  print(\"x la khong la nam nhuan\")"
      ],
      "execution_count": null,
      "outputs": [
        {
          "output_type": "stream",
          "name": "stdout",
          "text": [
            "nhap nam x: 2010\n",
            "x la khong la nam nhuan\n"
          ]
        }
      ]
    },
    {
      "cell_type": "markdown",
      "metadata": {
        "id": "qHaMkkZKcSGo"
      },
      "source": [
        "B4: Write a program in Python to input 5 numbers from keyboard and find their sum and average."
      ]
    },
    {
      "cell_type": "code",
      "metadata": {
        "colab": {
          "base_uri": "https://localhost:8080/"
        },
        "id": "hIUb2vtuchJh",
        "outputId": "3c1b6f33-c7e1-436f-ad27-c7a5b2569cec"
      },
      "source": [
        "x = [input() for i in range(5)]\n",
        "s=int(x[0])+int(x[1])+int(x[2])+int(x[3])+int(x[4])\n",
        "trungbinh=s/5\n",
        "print(\"tong nam so la: \",s)\n",
        "print(\"trung binh nam so la: \",trungbinh1)\n"
      ],
      "execution_count": null,
      "outputs": [
        {
          "output_type": "stream",
          "name": "stdout",
          "text": [
            "7\n",
            "8\n",
            "9\n",
            "1\n",
            "2\n",
            "tong nam so la:  27\n",
            "trung binh nam so la:  5.4\n"
          ]
        }
      ]
    },
    {
      "cell_type": "code",
      "metadata": {
        "id": "xfC1KnMZg62-"
      },
      "source": [
        "import string\n",
        "if x=="
      ],
      "execution_count": null,
      "outputs": []
    }
  ]
}