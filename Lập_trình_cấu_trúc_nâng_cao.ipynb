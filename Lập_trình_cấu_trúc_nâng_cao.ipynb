{
  "nbformat": 4,
  "nbformat_minor": 0,
  "metadata": {
    "colab": {
      "name": "Lập trình cấu trúc nâng cao.ipynb",
      "provenance": [],
      "collapsed_sections": [],
      "authorship_tag": "ABX9TyO+piLYC3BZFxD3uAQ2QaXx",
      "include_colab_link": true
    },
    "kernelspec": {
      "name": "python3",
      "display_name": "Python 3"
    },
    "language_info": {
      "name": "python"
    }
  },
  "cells": [
    {
      "cell_type": "markdown",
      "metadata": {
        "id": "view-in-github",
        "colab_type": "text"
      },
      "source": [
        "<a href=\"https://colab.research.google.com/github/gramelon2003/python-begin/blob/master/L%E1%BA%ADp_tr%C3%ACnh_c%E1%BA%A5u_tr%C3%BAc_n%C3%A2ng_cao.ipynb\" target=\"_parent\"><img src=\"https://colab.research.google.com/assets/colab-badge.svg\" alt=\"Open In Colab\"/></a>"
      ]
    },
    {
      "cell_type": "markdown",
      "metadata": {
        "id": "lu-D79HPqmIW"
      },
      "source": [
        "B1: Viết chương trình thực hiện các yêu cầu sau:\n",
        "- Nhập vào 1 số nguyên dương N từ bàn phím\n",
        "- Hãy xây dựng 1 dictionary với các phần tử chỉ mục và giá trị có dạng (i: log(i)) với I đi từ\n",
        "0 tới N\n",
        "- Hiển thị dictionary trên ra màn hình"
      ]
    },
    {
      "cell_type": "code",
      "metadata": {
        "colab": {
          "base_uri": "https://localhost:8080/"
        },
        "id": "kkdepRuohlU6",
        "outputId": "0fd992be-0b69-440b-d6b6-7c2595d2e206"
      },
      "source": [
        "import math\n",
        "a=int(input(\"nhap x: \"))\n",
        "b={}\n",
        "for i in range(1,a+1):\n",
        "   b[i]=math.log10(i)\n",
        "print(b)"
      ],
      "execution_count": 18,
      "outputs": [
        {
          "output_type": "stream",
          "name": "stdout",
          "text": [
            "nhap x: 4\n",
            "{1: 0.0, 2: 0.3010299956639812, 3: 0.47712125471966244, 4: 0.6020599913279624}\n"
          ]
        }
      ]
    },
    {
      "cell_type": "markdown",
      "metadata": {
        "id": "yNUNdu7Gmq2x"
      },
      "source": [
        "B2: Viết chương trình thực hiện các yêu cầu sau:\n",
        "- Nhập vào từ bàn phím một chuỗi các giá trị (có thể là số nguyên, số thực hay các ký tự)\n",
        "cách nhau bởi dấu phẩy (“,”).\n",
        "- Chuyển chuỗi được nhập từ bàn phím thành một danh sách (list)\n",
        "- Hiển thị danh sách đó ra màn hình."
      ]
    },
    {
      "cell_type": "code",
      "metadata": {
        "colab": {
          "base_uri": "https://localhost:8080/"
        },
        "id": "JFaK4uzsorKx",
        "outputId": "6e56a602-17bc-4e8c-c6ae-4b58832a78f2"
      },
      "source": [
        "a=input().split(\",\")\n",
        "print(a)"
      ],
      "execution_count": 27,
      "outputs": [
        {
          "output_type": "stream",
          "name": "stdout",
          "text": [
            "a, 9, =\n",
            "['a', ' 9', ' =']\n"
          ]
        }
      ]
    },
    {
      "cell_type": "markdown",
      "metadata": {
        "id": "q3n5RQyJskuA"
      },
      "source": [
        "B3: Viết chương trình thực hiện các yêu cầu sau:\n",
        "- Nhập vào từ bàn phím một chuỗi các giá trị (có thể là số nguyên, số thực hay các ký tự)\n",
        "cách nhau bởi dấu phẩy (“,”).\n",
        "- Chuyển chuỗi được nhập từ bàn phím thành một tuple\n",
        "- Hiển thị tuple đó ra màn hình."
      ]
    },
    {
      "cell_type": "code",
      "metadata": {
        "colab": {
          "base_uri": "https://localhost:8080/"
        },
        "id": "jt9ofxtYso46",
        "outputId": "0271fa67-db05-46c1-ca87-e459ceda2f1c"
      },
      "source": [
        "b=tuple(input().split(\",\"))\n",
        "print(b)"
      ],
      "execution_count": 29,
      "outputs": [
        {
          "output_type": "stream",
          "name": "stdout",
          "text": [
            "5, 7, 3, 8, e\n",
            "('5', ' 7', ' 3', ' 8', ' e')\n"
          ]
        }
      ]
    },
    {
      "cell_type": "markdown",
      "metadata": {
        "id": "O3kw-7oetdBR"
      },
      "source": [
        "B4: Viết chương trình thực hiện các yêu cầu sau:\n",
        "- Nhập vào 1 chuỗi các kí tự từ bàn phím, các từ cách nhau bởi ít nhất một khoảng trắng\n",
        "- Chuyển chuỗi vừa nhập thành 1 danh sách với điều kiện phân tách là dấu khoảng trắng\n",
        "(space)\n",
        "- Hiển thị danh sách thu được ra màn hình"
      ]
    },
    {
      "cell_type": "code",
      "metadata": {
        "colab": {
          "base_uri": "https://localhost:8080/"
        },
        "id": "tZ-3s-BVthQZ",
        "outputId": "312982a0-ad77-4e37-f4c1-8cf66c5fc1c8"
      },
      "source": [
        "c=input().split()\n",
        "print(c)"
      ],
      "execution_count": 30,
      "outputs": [
        {
          "output_type": "stream",
          "name": "stdout",
          "text": [
            "7 7 hai con meo\n",
            "['7', '7', 'hai', 'con', 'meo']\n"
          ]
        }
      ]
    },
    {
      "cell_type": "markdown",
      "metadata": {
        "id": "xj9hQxF-tzM7"
      },
      "source": [
        "B5: Nhập vào 1 danh sách các số nguyên từ bàn phím (Quá trình nhập dừng khi người dùng\n",
        "nhập vào 1 kí tự từ a đến z)\n",
        "- Hiển thị danh sách đó ra màn hình\n",
        "- Yêu cầu người dùng nhập vào một số nguyên N từ bàn phím\n",
        "\n",
        "- Tìm kiếm vị trí xuất hiện đầu tiên của N trong danh sách và hiển thị ra màn hình (nếu không\n",
        "có thì thông báo không tìm thấy ra màn hình).\n",
        "- Tìm kiếm tất cả các vị trí xuất hiện của N trong danh sách và hiển thị ra màn hình. (Nếu\n",
        "không tìm thấy thì thông báo không tìm được ra màn hình)"
      ]
    },
    {
      "cell_type": "code",
      "metadata": {
        "colab": {
          "base_uri": "https://localhost:8080/"
        },
        "id": "cop6aLOwu-tj",
        "outputId": "490ea9c6-1913-476c-d721-c945602d97ea"
      },
      "source": [
        "a=int(input(\"nhap gioi han list: \"))\n",
        "c=[]\n",
        "for i in range(0,a):\n",
        "  b=input(\"nhap gia tri: \")\n",
        "  c.append(b)\n",
        "  if c[i].isalpha():\n",
        "    print(\"cham dut chuong trinh\")\n",
        "    break\n",
        "print(c)\n",
        "b=input(\"nhap so nguyen n: \")\n",
        "if b in c:\n",
        "  for i in range(0,a):\n",
        "    if b==c[i]:\n",
        "      print(\"n xuat hien tai vi tri: \",i)\n",
        "else:\n",
        "  print(\"n khong xuat hien tren man hinh\")"
      ],
      "execution_count": 102,
      "outputs": [
        {
          "output_type": "stream",
          "name": "stdout",
          "text": [
            "nhap gioi han list: 5\n",
            "nhap gia tri: 1\n",
            "nhap gia tri: 4\n",
            "nhap gia tri: 6\n",
            "nhap gia tri: 7\n",
            "nhap gia tri: 5\n",
            "['1', '4', '6', '7', '5']\n",
            "nhap so nguyen n: 4\n",
            "n xuat hien tai vi tri:  1\n"
          ]
        }
      ]
    },
    {
      "cell_type": "code",
      "metadata": {
        "colab": {
          "base_uri": "https://localhost:8080/"
        },
        "id": "rDVmXaUT_JHH",
        "outputId": "ec72c914-51fa-4394-bdcb-1f75f6b360b5"
      },
      "source": [
        "if b in c:\n",
        "  print(\"co\")\n",
        "else:\n",
        "  print(\"no\")"
      ],
      "execution_count": 100,
      "outputs": [
        {
          "output_type": "stream",
          "name": "stdout",
          "text": [
            "no\n"
          ]
        }
      ]
    }
  ]
}