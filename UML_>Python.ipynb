{
  "nbformat": 4,
  "nbformat_minor": 0,
  "metadata": {
    "colab": {
      "name": "UML->Python.ipynb",
      "provenance": [],
      "authorship_tag": "ABX9TyNr4NiupJgjQZYqy8LIT8bg",
      "include_colab_link": true
    },
    "kernelspec": {
      "name": "python3",
      "display_name": "Python 3"
    },
    "language_info": {
      "name": "python"
    }
  },
  "cells": [
    {
      "cell_type": "markdown",
      "metadata": {
        "id": "view-in-github",
        "colab_type": "text"
      },
      "source": [
        "<a href=\"https://colab.research.google.com/github/gramelon2003/python-begin/blob/master/UML_%3EPython.ipynb\" target=\"_parent\"><img src=\"https://colab.research.google.com/assets/colab-badge.svg\" alt=\"Open In Colab\"/></a>"
      ]
    },
    {
      "cell_type": "code",
      "metadata": {
        "id": "_DbCdYldHuOb"
      },
      "source": [
        "class payment:\n",
        "    def __init__(self, amount: float):\n",
        "        self.amount = amount\n",
        "class cash(payment):\n",
        "    def __init__(self, amount: float, cashTendered: float):\n",
        "        super().__init__(amount)\n",
        "        self.cashTendered = cashTendered\n",
        "class check(payment):\n",
        "    def __init__(self, amount: float, name: str, bankID: str):\n",
        "        super().__init__(amount)\n",
        "        self.name = name\n",
        "        self.bankID = bankID\n",
        "    def authorize(self):\n",
        "        pass\n",
        "class credit(payment):\n",
        "    def __init__(self, amount: float, number: str, type: str, expDate):\n",
        "        super.__init__(amount)\n",
        "        self.number = number\n",
        "        self.type = type\n",
        "        self.expDate = expDate\n",
        "    def authorize(self):\n",
        "        pass\n",
        "class customer:\n",
        "    def __init__(self, name: str, address):\n",
        "        self.name = name\n",
        "        self.address = address\n",
        "class order:\n",
        "    def __init__(self, date, status: str):\n",
        "        self.date = date\n",
        "        self.status = status\n",
        "    def calcSubtotal(self):\n",
        "        pass\n",
        "    def calctax(self):\n",
        "        pass\n",
        "    def calcTotal(self):\n",
        "        pass\n",
        "    def calcTotalWeight(self):\n",
        "        pass\n",
        "    def calcSubTotal(self):\n",
        "        pass\n",
        "    def calcSubWeight(self):\n",
        "        pass\n",
        "    def calcSubTax(self):\n",
        "        pass\n",
        "class Item:\n",
        "    def __init__(self, shippingWeight, description: str):\n",
        "        self.shippingWeight = shippingWeight\n",
        "        self.description = description\n",
        "    def getPriceForQuanlity(self):\n",
        "        pass\n",
        "    def getTax(self):\n",
        "        pass\n",
        "    def instock(self):\n",
        "        pass"
      ],
      "execution_count": null,
      "outputs": []
    }
  ]
}