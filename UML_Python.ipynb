{
  "nbformat": 4,
  "nbformat_minor": 0,
  "metadata": {
    "colab": {
      "name": "UML-Python.ipynb",
      "provenance": [],
      "authorship_tag": "ABX9TyOOCI0um5uC97VoInRdlrRB",
      "include_colab_link": true
    },
    "kernelspec": {
      "name": "python3",
      "display_name": "Python 3"
    },
    "language_info": {
      "name": "python"
    }
  },
  "cells": [
    {
      "cell_type": "markdown",
      "metadata": {
        "id": "view-in-github",
        "colab_type": "text"
      },
      "source": [
        "<a href=\"https://colab.research.google.com/github/gramelon2003/python-begin/blob/master/UML_Python.ipynb\" target=\"_parent\"><img src=\"https://colab.research.google.com/assets/colab-badge.svg\" alt=\"Open In Colab\"/></a>"
      ]
    },
    {
      "cell_type": "code",
      "metadata": {
        "id": "_DbCdYldHuOb"
      },
      "source": [
        "class payment:\n",
        "    def __init__(self, amount):\n",
        "        self.amount: float = amount\n",
        "class cash(payment):\n",
        "    def __init__(self, amount, cashTendered):\n",
        "        super().__init__(amount)\n",
        "        self.cashTendered: float = cashTendered\n",
        "class check(payment):\n",
        "    def __init__(self, amount: float, name, bankID):\n",
        "        super().__init__(amount)\n",
        "        self.name: str = name\n",
        "        self.bankID: str = bankID\n",
        "    def authorize(self):\n",
        "        pass\n",
        "class credit(payment):\n",
        "    def __init__(self, amount: float, number, type, expDate):\n",
        "        super.__init__(amount)\n",
        "        self.number:str = number\n",
        "        self.type:str = type\n",
        "        self.expDate = expDate\n",
        "    def authorize(self):\n",
        "        pass\n",
        "class customer:\n",
        "    def __init__(self, name, address):\n",
        "        self.name: str = name\n",
        "        self.address = address\n",
        "class order:\n",
        "    def __init__(self, date, status):\n",
        "        self.date = date\n",
        "        self.status:str = status\n",
        "    def calcSubtotal(self):\n",
        "        pass\n",
        "    def calctax(self):\n",
        "        pass\n",
        "    def calcTotal(self):\n",
        "        pass\n",
        "    def calcTotalWeight(self):\n",
        "        pass\n",
        "    def calcSubTotal(self):\n",
        "        pass\n",
        "    def calcSubWeight(self):\n",
        "        pass\n",
        "    def calcSubTax(self):\n",
        "        pass\n",
        "class Item:\n",
        "    def __init__(self, shippingWeight, description):\n",
        "        self.shippingWeight = shippingWeight\n",
        "        self.description: str = description\n",
        "    def getPriceForQuanlity(self):\n",
        "        pass\n",
        "    def getTax(self):\n",
        "        pass\n",
        "    def instock(self):\n",
        "        pass"
      ],
      "execution_count": 2,
      "outputs": []
    }
  ]
}