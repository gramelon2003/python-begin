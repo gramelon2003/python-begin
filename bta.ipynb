{
  "nbformat": 4,
  "nbformat_minor": 0,
  "metadata": {
    "colab": {
      "name": "bta.ipynb",
      "provenance": [],
      "authorship_tag": "ABX9TyMm5axcwjyRvyCk8YQVAa7l",
      "include_colab_link": true
    },
    "kernelspec": {
      "name": "python3",
      "display_name": "Python 3"
    },
    "language_info": {
      "name": "python"
    }
  },
  "cells": [
    {
      "cell_type": "markdown",
      "metadata": {
        "id": "view-in-github",
        "colab_type": "text"
      },
      "source": [
        "<a href=\"https://colab.research.google.com/github/gramelon2003/python-begin/blob/master/bta.ipynb\" target=\"_parent\"><img src=\"https://colab.research.google.com/assets/colab-badge.svg\" alt=\"Open In Colab\"/></a>"
      ]
    },
    {
      "cell_type": "code",
      "metadata": {
        "colab": {
          "base_uri": "https://localhost:8080/"
        },
        "id": "JwNHDOoaRk05",
        "outputId": "3ff9759e-e0da-4833-dec6-a39cbe26bee2"
      },
      "source": [
        "x=[1,2,5,3,4,8,7,6]\n",
        "#bt1\n",
        "a=sum(x)\n",
        "print(\"tổng của x: \",a)\n",
        "#bt2\n",
        "b=y*3\n",
        "print(b)\n",
        "#bt3\n",
        "c=max(x)\n",
        "print(\"phần tử lớn nhất của x: \",c)\n",
        "#bt4\n",
        "d=min(x)\n",
        "print(\"phần tử nhỏ nhất của x: \",d)\n",
        "#bt5\n",
        "e=sorted(x)\n",
        "print(\"sắp xếp list x theo thứ tự lớn dần: \",e)\n",
        "#bt6\n",
        "f=sorted(x, reverse=True)\n",
        "print(f)\n",
        "#bt7\n",
        "print(\"độ dài của list x: \",len(x))\n",
        "#bt8\n",
        "import random\n",
        "print(\"lựa chọn số ngẫu nhiên trong x: \",random.choice(x))\n",
        "#bt9\n",
        "y=[\"apple\",\"orange\",\"lemon\"]\n",
        "g=x+y\n",
        "print(g)\n",
        "x.extend(y)\n",
        "print(x)\n",
        "\n",
        "\n",
        "    \n"
      ],
      "execution_count": 30,
      "outputs": [
        {
          "output_type": "stream",
          "name": "stdout",
          "text": [
            "tổng của x:  36\n",
            "['apple', 'orange', 'lemon', 'apple', 'orange', 'lemon', 'apple', 'orange', 'lemon']\n",
            "phần tử lớn nhất của x:  8\n",
            "phần tử nhỏ nhất của x:  1\n",
            "sắp xếp list x theo thứ tự lớn dần:  [1, 2, 3, 4, 5, 6, 7, 8]\n",
            "[8, 7, 6, 5, 4, 3, 2, 1]\n",
            "độ dài của list x:  8\n",
            "lựa chọn số ngẫu nhiên trong x:  2\n",
            "[1, 2, 5, 3, 4, 8, 7, 6, 'apple', 'orange', 'lemon']\n",
            "[1, 2, 5, 3, 4, 8, 7, 6, 'apple', 'orange', 'lemon']\n"
          ]
        }
      ]
    }
  ]
}