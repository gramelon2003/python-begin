{
  "nbformat": 4,
  "nbformat_minor": 0,
  "metadata": {
    "colab": {
      "name": "lưu_trữ_tập_tin.ipynb",
      "provenance": [],
      "collapsed_sections": [],
      "authorship_tag": "ABX9TyM31Sb+Pj8l1A3msQ16hbgu",
      "include_colab_link": true
    },
    "kernelspec": {
      "name": "python3",
      "display_name": "Python 3"
    },
    "language_info": {
      "name": "python"
    }
  },
  "cells": [
    {
      "cell_type": "markdown",
      "metadata": {
        "id": "view-in-github",
        "colab_type": "text"
      },
      "source": [
        "<a href=\"https://colab.research.google.com/github/gramelon2003/python-begin/blob/master/l%C6%B0u_tr%E1%BB%AF_t%E1%BA%ADp_tin.ipynb\" target=\"_parent\"><img src=\"https://colab.research.google.com/assets/colab-badge.svg\" alt=\"Open In Colab\"/></a>"
      ]
    },
    {
      "cell_type": "code",
      "metadata": {
        "id": "VxC8VPdNh5pT"
      },
      "source": [
        "import pickle\n",
        "class Person():\n",
        "    def __init__(self,name,phone_number,email_address):\n",
        "        self.name = name\n",
        "        self.phone_number = phone_number\n",
        "        self.email_address = email_address\n",
        "\n",
        "class Student(Person):\n",
        "    def __init__(self,student_number,average_mark,name,phone_number,email_address):\n",
        "        super().__init__(name,phone_number,email_address)\n",
        "        self.student_number = student_number\n",
        "        self.average_mark = average_mark\n",
        "\n",
        "class Professor(Person):\n",
        "    def __init__(self,salary,name,phone_number,email_address):\n",
        "        super().__init__(name,phone_number,email_address)\n",
        "        self.salary = salary\n"
      ],
      "execution_count": 21,
      "outputs": []
    },
    {
      "cell_type": "code",
      "metadata": {
        "id": "zfxCTW296sfj",
        "colab": {
          "base_uri": "https://localhost:8080/"
        },
        "outputId": "01594009-9b23-43b6-ef3d-0f4af9491ca3"
      },
      "source": [
        "stu = []\n",
        "a = []\n",
        "tens = [\"Tuan\", \"Quan\", \"Long\", \"Trang\", \"Ha\", \"Thanh\", \"Nam\", \"My\", \"Thang\", \"An\"]\n",
        "p = [37244034, 38602412, 32338905, 82964296, 52019645, 36597594, 71419703, 89298997, 89111314, 77108737]\n",
        "snum = [544 ,481, 456, 321, 58, 204, 286, 536, 259, 293]\n",
        "am = [7.2, 6.3, 5.5, 8.5, 7.5, 7.7, 8.1, 9.0, 6.5, 7.0]\n",
        "for i in range(0,10):\n",
        "    name = tens[i]\n",
        "    phone_number = p[i]\n",
        "    email_address = tens[i] + \"@gmail.com\"\n",
        "    student_number = snum[i]\n",
        "    average_mark = am[i]\n",
        "\n",
        "    hs = Student(student_number, average_mark, name, phone_number, email_address)\n",
        "    ps1 = Person(name, phone_number, email_address)\n",
        "    a.append(vars(ps1))\n",
        "    stu.append(vars(hs))\n",
        "print(stu)\n",
        "n = sorted(stu, key=lambda d: d['average_mark'], reverse= True) \n",
        "print(n)"
      ],
      "execution_count": 26,
      "outputs": [
        {
          "output_type": "stream",
          "name": "stdout",
          "text": [
            "[{'name': 'Tuan', 'phone_number': 37244034, 'email_address': 'Tuan@gmail.com', 'student_number': 544, 'average_mark': 7.2}, {'name': 'Quan', 'phone_number': 38602412, 'email_address': 'Quan@gmail.com', 'student_number': 481, 'average_mark': 6.3}, {'name': 'Long', 'phone_number': 32338905, 'email_address': 'Long@gmail.com', 'student_number': 456, 'average_mark': 5.5}, {'name': 'Trang', 'phone_number': 82964296, 'email_address': 'Trang@gmail.com', 'student_number': 321, 'average_mark': 8.5}, {'name': 'Ha', 'phone_number': 52019645, 'email_address': 'Ha@gmail.com', 'student_number': 58, 'average_mark': 7.5}, {'name': 'Thanh', 'phone_number': 36597594, 'email_address': 'Thanh@gmail.com', 'student_number': 204, 'average_mark': 7.7}, {'name': 'Nam', 'phone_number': 71419703, 'email_address': 'Nam@gmail.com', 'student_number': 286, 'average_mark': 8.1}, {'name': 'My', 'phone_number': 89298997, 'email_address': 'My@gmail.com', 'student_number': 536, 'average_mark': 9.0}, {'name': 'Thang', 'phone_number': 89111314, 'email_address': 'Thang@gmail.com', 'student_number': 259, 'average_mark': 6.5}, {'name': 'An', 'phone_number': 77108737, 'email_address': 'An@gmail.com', 'student_number': 293, 'average_mark': 7.0}]\n",
            "[{'name': 'My', 'phone_number': 89298997, 'email_address': 'My@gmail.com', 'student_number': 536, 'average_mark': 9.0}, {'name': 'Trang', 'phone_number': 82964296, 'email_address': 'Trang@gmail.com', 'student_number': 321, 'average_mark': 8.5}, {'name': 'Nam', 'phone_number': 71419703, 'email_address': 'Nam@gmail.com', 'student_number': 286, 'average_mark': 8.1}, {'name': 'Thanh', 'phone_number': 36597594, 'email_address': 'Thanh@gmail.com', 'student_number': 204, 'average_mark': 7.7}, {'name': 'Ha', 'phone_number': 52019645, 'email_address': 'Ha@gmail.com', 'student_number': 58, 'average_mark': 7.5}, {'name': 'Tuan', 'phone_number': 37244034, 'email_address': 'Tuan@gmail.com', 'student_number': 544, 'average_mark': 7.2}, {'name': 'An', 'phone_number': 77108737, 'email_address': 'An@gmail.com', 'student_number': 293, 'average_mark': 7.0}, {'name': 'Thang', 'phone_number': 89111314, 'email_address': 'Thang@gmail.com', 'student_number': 259, 'average_mark': 6.5}, {'name': 'Quan', 'phone_number': 38602412, 'email_address': 'Quan@gmail.com', 'student_number': 481, 'average_mark': 6.3}, {'name': 'Long', 'phone_number': 32338905, 'email_address': 'Long@gmail.com', 'student_number': 456, 'average_mark': 5.5}]\n"
          ]
        }
      ]
    },
    {
      "cell_type": "code",
      "metadata": {
        "id": "1iB6Pb8GZ4MA",
        "colab": {
          "base_uri": "https://localhost:8080/"
        },
        "outputId": "12d20e1c-5e85-4c8b-aa38-b6d15629ecc3"
      },
      "source": [
        "pro = []\n",
        "a01 = []\n",
        "tenp = [\"Tuan\", \"Xuan\", \"Hoang\", \"Viet\", \"Duc\", \"Manh\", \"Minh\", \"Ngoc\", \"Quan\", \"Trang\"]\n",
        "p1 = [39074859, 42901663, 26274623, 63363159, 55300077, 98431948, 33497721, 30818062, 16204006, 95525449]\n",
        "sa = [6000, 5000, 6000, 6000, 5500, 5000, 6000, 5500, 6000, 5500]\n",
        "for i in range(0,10):\n",
        "    name = tenp[i]\n",
        "    phone_number = p1[i]\n",
        "    email_address = tenp[i] + \"@gmail.com\"\n",
        "    salary = sa[i]\n",
        "\n",
        "    n = Person(name, phone_number, email_address)\n",
        "    c = Professor(salary, name, phone_number, email_address)\n",
        "    a01.append(vars(n))\n",
        "    pro.append(vars(c))\n",
        "print(pro)\n",
        "t = sorted(pro, key=lambda d: d['salary'])\n",
        "print(t)"
      ],
      "execution_count": 31,
      "outputs": [
        {
          "output_type": "stream",
          "name": "stdout",
          "text": [
            "[{'name': 'Tuan', 'phone_number': 39074859, 'email_address': 'Tuan@gmail.com', 'salary': 6000}, {'name': 'Xuan', 'phone_number': 42901663, 'email_address': 'Xuan@gmail.com', 'salary': 5000}, {'name': 'Hoang', 'phone_number': 26274623, 'email_address': 'Hoang@gmail.com', 'salary': 6000}, {'name': 'Viet', 'phone_number': 63363159, 'email_address': 'Viet@gmail.com', 'salary': 6000}, {'name': 'Duc', 'phone_number': 55300077, 'email_address': 'Duc@gmail.com', 'salary': 5500}, {'name': 'Manh', 'phone_number': 98431948, 'email_address': 'Manh@gmail.com', 'salary': 5000}, {'name': 'Minh', 'phone_number': 33497721, 'email_address': 'Minh@gmail.com', 'salary': 6000}, {'name': 'Ngoc', 'phone_number': 30818062, 'email_address': 'Ngoc@gmail.com', 'salary': 5500}, {'name': 'Quan', 'phone_number': 16204006, 'email_address': 'Quan@gmail.com', 'salary': 6000}, {'name': 'Trang', 'phone_number': 95525449, 'email_address': 'Trang@gmail.com', 'salary': 5500}]\n",
            "[{'name': 'Xuan', 'phone_number': 42901663, 'email_address': 'Xuan@gmail.com', 'salary': 5000}, {'name': 'Manh', 'phone_number': 98431948, 'email_address': 'Manh@gmail.com', 'salary': 5000}, {'name': 'Duc', 'phone_number': 55300077, 'email_address': 'Duc@gmail.com', 'salary': 5500}, {'name': 'Ngoc', 'phone_number': 30818062, 'email_address': 'Ngoc@gmail.com', 'salary': 5500}, {'name': 'Trang', 'phone_number': 95525449, 'email_address': 'Trang@gmail.com', 'salary': 5500}, {'name': 'Tuan', 'phone_number': 39074859, 'email_address': 'Tuan@gmail.com', 'salary': 6000}, {'name': 'Hoang', 'phone_number': 26274623, 'email_address': 'Hoang@gmail.com', 'salary': 6000}, {'name': 'Viet', 'phone_number': 63363159, 'email_address': 'Viet@gmail.com', 'salary': 6000}, {'name': 'Minh', 'phone_number': 33497721, 'email_address': 'Minh@gmail.com', 'salary': 6000}, {'name': 'Quan', 'phone_number': 16204006, 'email_address': 'Quan@gmail.com', 'salary': 6000}]\n"
          ]
        }
      ]
    },
    {
      "cell_type": "code",
      "metadata": {
        "colab": {
          "base_uri": "https://localhost:8080/"
        },
        "id": "kfJPGOCnTCQo",
        "outputId": "ff25ad0a-61a5-4c87-b10d-9ea41b5dc877"
      },
      "source": [
        "person = a + a01\n",
        "print(person)\n",
        "person1 = sorted(person, key=lambda d: d['name'], reverse= True)\n",
        "print(person1)"
      ],
      "execution_count": 32,
      "outputs": [
        {
          "output_type": "stream",
          "name": "stdout",
          "text": [
            "[{'name': 'Tuan', 'phone_number': 37244034, 'email_address': 'Tuan@gmail.com'}, {'name': 'Quan', 'phone_number': 38602412, 'email_address': 'Quan@gmail.com'}, {'name': 'Long', 'phone_number': 32338905, 'email_address': 'Long@gmail.com'}, {'name': 'Trang', 'phone_number': 82964296, 'email_address': 'Trang@gmail.com'}, {'name': 'Ha', 'phone_number': 52019645, 'email_address': 'Ha@gmail.com'}, {'name': 'Thanh', 'phone_number': 36597594, 'email_address': 'Thanh@gmail.com'}, {'name': 'Nam', 'phone_number': 71419703, 'email_address': 'Nam@gmail.com'}, {'name': 'My', 'phone_number': 89298997, 'email_address': 'My@gmail.com'}, {'name': 'Thang', 'phone_number': 89111314, 'email_address': 'Thang@gmail.com'}, {'name': 'An', 'phone_number': 77108737, 'email_address': 'An@gmail.com'}, {'name': 'Tuan', 'phone_number': 39074859, 'email_address': 'Tuan@gmail.com'}, {'name': 'Xuan', 'phone_number': 42901663, 'email_address': 'Xuan@gmail.com'}, {'name': 'Hoang', 'phone_number': 26274623, 'email_address': 'Hoang@gmail.com'}, {'name': 'Viet', 'phone_number': 63363159, 'email_address': 'Viet@gmail.com'}, {'name': 'Duc', 'phone_number': 55300077, 'email_address': 'Duc@gmail.com'}, {'name': 'Manh', 'phone_number': 98431948, 'email_address': 'Manh@gmail.com'}, {'name': 'Minh', 'phone_number': 33497721, 'email_address': 'Minh@gmail.com'}, {'name': 'Ngoc', 'phone_number': 30818062, 'email_address': 'Ngoc@gmail.com'}, {'name': 'Quan', 'phone_number': 16204006, 'email_address': 'Quan@gmail.com'}, {'name': 'Trang', 'phone_number': 95525449, 'email_address': 'Trang@gmail.com'}]\n",
            "[{'name': 'Xuan', 'phone_number': 42901663, 'email_address': 'Xuan@gmail.com'}, {'name': 'Viet', 'phone_number': 63363159, 'email_address': 'Viet@gmail.com'}, {'name': 'Tuan', 'phone_number': 37244034, 'email_address': 'Tuan@gmail.com'}, {'name': 'Tuan', 'phone_number': 39074859, 'email_address': 'Tuan@gmail.com'}, {'name': 'Trang', 'phone_number': 82964296, 'email_address': 'Trang@gmail.com'}, {'name': 'Trang', 'phone_number': 95525449, 'email_address': 'Trang@gmail.com'}, {'name': 'Thanh', 'phone_number': 36597594, 'email_address': 'Thanh@gmail.com'}, {'name': 'Thang', 'phone_number': 89111314, 'email_address': 'Thang@gmail.com'}, {'name': 'Quan', 'phone_number': 38602412, 'email_address': 'Quan@gmail.com'}, {'name': 'Quan', 'phone_number': 16204006, 'email_address': 'Quan@gmail.com'}, {'name': 'Ngoc', 'phone_number': 30818062, 'email_address': 'Ngoc@gmail.com'}, {'name': 'Nam', 'phone_number': 71419703, 'email_address': 'Nam@gmail.com'}, {'name': 'My', 'phone_number': 89298997, 'email_address': 'My@gmail.com'}, {'name': 'Minh', 'phone_number': 33497721, 'email_address': 'Minh@gmail.com'}, {'name': 'Manh', 'phone_number': 98431948, 'email_address': 'Manh@gmail.com'}, {'name': 'Long', 'phone_number': 32338905, 'email_address': 'Long@gmail.com'}, {'name': 'Hoang', 'phone_number': 26274623, 'email_address': 'Hoang@gmail.com'}, {'name': 'Ha', 'phone_number': 52019645, 'email_address': 'Ha@gmail.com'}, {'name': 'Duc', 'phone_number': 55300077, 'email_address': 'Duc@gmail.com'}, {'name': 'An', 'phone_number': 77108737, 'email_address': 'An@gmail.com'}]\n"
          ]
        }
      ]
    },
    {
      "cell_type": "code",
      "metadata": {
        "colab": {
          "base_uri": "https://localhost:8080/"
        },
        "id": "AMqffq52TI-4",
        "outputId": "07071385-6f08-49de-b4e1-7bca77a7f40c"
      },
      "source": [
        "f = open(\"student.txt\", \"wb\")\n",
        "pickle.dump(stu, f)\n",
        "f.close()\n",
        "f = open(\"student.txt\", \"rb\")\n",
        "print(\"\\n\", pickle.load(f))\n",
        "f.close()"
      ],
      "execution_count": 33,
      "outputs": [
        {
          "output_type": "stream",
          "name": "stdout",
          "text": [
            "\n",
            " [{'name': 'Tuan', 'phone_number': 37244034, 'email_address': 'Tuan@gmail.com', 'student_number': 544, 'average_mark': 7.2}, {'name': 'Quan', 'phone_number': 38602412, 'email_address': 'Quan@gmail.com', 'student_number': 481, 'average_mark': 6.3}, {'name': 'Long', 'phone_number': 32338905, 'email_address': 'Long@gmail.com', 'student_number': 456, 'average_mark': 5.5}, {'name': 'Trang', 'phone_number': 82964296, 'email_address': 'Trang@gmail.com', 'student_number': 321, 'average_mark': 8.5}, {'name': 'Ha', 'phone_number': 52019645, 'email_address': 'Ha@gmail.com', 'student_number': 58, 'average_mark': 7.5}, {'name': 'Thanh', 'phone_number': 36597594, 'email_address': 'Thanh@gmail.com', 'student_number': 204, 'average_mark': 7.7}, {'name': 'Nam', 'phone_number': 71419703, 'email_address': 'Nam@gmail.com', 'student_number': 286, 'average_mark': 8.1}, {'name': 'My', 'phone_number': 89298997, 'email_address': 'My@gmail.com', 'student_number': 536, 'average_mark': 9.0}, {'name': 'Thang', 'phone_number': 89111314, 'email_address': 'Thang@gmail.com', 'student_number': 259, 'average_mark': 6.5}, {'name': 'An', 'phone_number': 77108737, 'email_address': 'An@gmail.com', 'student_number': 293, 'average_mark': 7.0}]\n"
          ]
        }
      ]
    },
    {
      "cell_type": "code",
      "metadata": {
        "colab": {
          "base_uri": "https://localhost:8080/"
        },
        "id": "ikwsXbEnUT10",
        "outputId": "a844931e-3824-4c21-b510-7a47e56f59a9"
      },
      "source": [
        "m = open(\"professor.txt\", \"wb\")\n",
        "pickle.dump(pro, m)\n",
        "m.close()\n",
        "m = open(\"professor.txt\", \"rb\")\n",
        "print(\"\\n\", pickle.load(m))\n",
        "m.close()"
      ],
      "execution_count": 34,
      "outputs": [
        {
          "output_type": "stream",
          "name": "stdout",
          "text": [
            "\n",
            " [{'name': 'Tuan', 'phone_number': 39074859, 'email_address': 'Tuan@gmail.com', 'salary': 6000}, {'name': 'Xuan', 'phone_number': 42901663, 'email_address': 'Xuan@gmail.com', 'salary': 5000}, {'name': 'Hoang', 'phone_number': 26274623, 'email_address': 'Hoang@gmail.com', 'salary': 6000}, {'name': 'Viet', 'phone_number': 63363159, 'email_address': 'Viet@gmail.com', 'salary': 6000}, {'name': 'Duc', 'phone_number': 55300077, 'email_address': 'Duc@gmail.com', 'salary': 5500}, {'name': 'Manh', 'phone_number': 98431948, 'email_address': 'Manh@gmail.com', 'salary': 5000}, {'name': 'Minh', 'phone_number': 33497721, 'email_address': 'Minh@gmail.com', 'salary': 6000}, {'name': 'Ngoc', 'phone_number': 30818062, 'email_address': 'Ngoc@gmail.com', 'salary': 5500}, {'name': 'Quan', 'phone_number': 16204006, 'email_address': 'Quan@gmail.com', 'salary': 6000}, {'name': 'Trang', 'phone_number': 95525449, 'email_address': 'Trang@gmail.com', 'salary': 5500}]\n"
          ]
        }
      ]
    },
    {
      "cell_type": "code",
      "metadata": {
        "colab": {
          "base_uri": "https://localhost:8080/"
        },
        "id": "3HqjNNLVX1xS",
        "outputId": "04e0e291-53bb-439e-b4c1-fe8baa5ac89b"
      },
      "source": [
        "c = open(\"person.txt\", \"wb\")\n",
        "pickle.dump(person, c)\n",
        "c.close()\n",
        "c = open(\"person.txt\", \"rb\")\n",
        "print(\"\\n\", pickle.load(c))\n",
        "c.close()"
      ],
      "execution_count": 35,
      "outputs": [
        {
          "output_type": "stream",
          "name": "stdout",
          "text": [
            "\n",
            " [{'name': 'Tuan', 'phone_number': 37244034, 'email_address': 'Tuan@gmail.com'}, {'name': 'Quan', 'phone_number': 38602412, 'email_address': 'Quan@gmail.com'}, {'name': 'Long', 'phone_number': 32338905, 'email_address': 'Long@gmail.com'}, {'name': 'Trang', 'phone_number': 82964296, 'email_address': 'Trang@gmail.com'}, {'name': 'Ha', 'phone_number': 52019645, 'email_address': 'Ha@gmail.com'}, {'name': 'Thanh', 'phone_number': 36597594, 'email_address': 'Thanh@gmail.com'}, {'name': 'Nam', 'phone_number': 71419703, 'email_address': 'Nam@gmail.com'}, {'name': 'My', 'phone_number': 89298997, 'email_address': 'My@gmail.com'}, {'name': 'Thang', 'phone_number': 89111314, 'email_address': 'Thang@gmail.com'}, {'name': 'An', 'phone_number': 77108737, 'email_address': 'An@gmail.com'}, {'name': 'Tuan', 'phone_number': 39074859, 'email_address': 'Tuan@gmail.com'}, {'name': 'Xuan', 'phone_number': 42901663, 'email_address': 'Xuan@gmail.com'}, {'name': 'Hoang', 'phone_number': 26274623, 'email_address': 'Hoang@gmail.com'}, {'name': 'Viet', 'phone_number': 63363159, 'email_address': 'Viet@gmail.com'}, {'name': 'Duc', 'phone_number': 55300077, 'email_address': 'Duc@gmail.com'}, {'name': 'Manh', 'phone_number': 98431948, 'email_address': 'Manh@gmail.com'}, {'name': 'Minh', 'phone_number': 33497721, 'email_address': 'Minh@gmail.com'}, {'name': 'Ngoc', 'phone_number': 30818062, 'email_address': 'Ngoc@gmail.com'}, {'name': 'Quan', 'phone_number': 16204006, 'email_address': 'Quan@gmail.com'}, {'name': 'Trang', 'phone_number': 95525449, 'email_address': 'Trang@gmail.com'}]\n"
          ]
        }
      ]
    }
  ]
}