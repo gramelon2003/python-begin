{
  "nbformat": 4,
  "nbformat_minor": 0,
  "metadata": {
    "colab": {
      "name": "lưu_trữ_tập_tin.ipynb",
      "provenance": [],
      "collapsed_sections": [],
      "authorship_tag": "ABX9TyMehZvwsB7EZolZFBMzFwqx",
      "include_colab_link": true
    },
    "kernelspec": {
      "name": "python3",
      "display_name": "Python 3"
    },
    "language_info": {
      "name": "python"
    }
  },
  "cells": [
    {
      "cell_type": "markdown",
      "metadata": {
        "id": "view-in-github",
        "colab_type": "text"
      },
      "source": [
        "<a href=\"https://colab.research.google.com/github/gramelon2003/python-begin/blob/master/l%C6%B0u_tr%E1%BB%AF_t%E1%BA%ADp_tin.ipynb\" target=\"_parent\"><img src=\"https://colab.research.google.com/assets/colab-badge.svg\" alt=\"Open In Colab\"/></a>"
      ]
    },
    {
      "cell_type": "code",
      "metadata": {
        "id": "VxC8VPdNh5pT"
      },
      "source": [
        "import pickle\n",
        "class person():\n",
        "    def __init__(self,name,phone_number,email_address):\n",
        "        self.n = name\n",
        "        self.pn = phone_number\n",
        "        self.ea = email_address\n",
        "\n",
        "class student(person):\n",
        "    def __init__(self,student_number,average_mark):\n",
        "        self.sn = student_number\n",
        "        self.am = average_mark\n",
        "\n",
        "class professor(person):\n",
        "    def __init__(self,salary):\n",
        "        self.salary = salary\n"
      ],
      "execution_count": 3,
      "outputs": []
    },
    {
      "cell_type": "code",
      "metadata": {
        "id": "zfxCTW296sfj",
        "colab": {
          "base_uri": "https://localhost:8080/"
        },
        "outputId": "b2357f4f-802c-4573-a413-7722e850cf7e"
      },
      "source": [
        "stu = []\n",
        "a = []\n",
        "tens = [\"Tuan\", \"Quan\", \"Long\", \"Trang\", \"Ha\", \"Thanh\", \"Nam\", \"My\", \"Thang\", \"An\"]\n",
        "p = [37244034, 38602412, 32338905, 82964296, 52019645, 36597594, 71419703, 89298997, 89111314, 77108737]\n",
        "snum = [544 ,481, 456, 321, 58, 204, 286, 536, 259, 293]\n",
        "am = [7.2, 6.3, 5.5, 8.5, 7.5, 7.7, 8.1, 9.0, 6.5, 7.0]\n",
        "for i in range(0,10):\n",
        "    stu01 = []\n",
        "    name = tens[i]\n",
        "    phone_number = p[i]\n",
        "    email_address = tens[i] + \"@gmail.com\"\n",
        "    student_number = snum[i]\n",
        "    average_mark = am[i]\n",
        "    hs = student(student_number, average_mark)\n",
        "    ps1 = person(name, phone_number, email_address)\n",
        "    a.append(vars(ps1))\n",
        "    stu01.append(vars(ps1))\n",
        "    stu01.append(vars(hs))\n",
        "    stu.append(stu01)\n",
        "print(stu)"
      ],
      "execution_count": 11,
      "outputs": [
        {
          "output_type": "stream",
          "name": "stdout",
          "text": [
            "[[{'n': 'Tuan', 'pn': 37244034, 'ea': 'Tuan@gmail.com'}, {'sn': 544, 'am': 7.2}], [{'n': 'Quan', 'pn': 38602412, 'ea': 'Quan@gmail.com'}, {'sn': 481, 'am': 6.3}], [{'n': 'Long', 'pn': 32338905, 'ea': 'Long@gmail.com'}, {'sn': 456, 'am': 5.5}], [{'n': 'Trang', 'pn': 82964296, 'ea': 'Trang@gmail.com'}, {'sn': 321, 'am': 8.5}], [{'n': 'Ha', 'pn': 52019645, 'ea': 'Ha@gmail.com'}, {'sn': 58, 'am': 7.5}], [{'n': 'Thanh', 'pn': 36597594, 'ea': 'Thanh@gmail.com'}, {'sn': 204, 'am': 7.7}], [{'n': 'Nam', 'pn': 71419703, 'ea': 'Nam@gmail.com'}, {'sn': 286, 'am': 8.1}], [{'n': 'My', 'pn': 89298997, 'ea': 'My@gmail.com'}, {'sn': 536, 'am': 9.0}], [{'n': 'Thang', 'pn': 89111314, 'ea': 'Thang@gmail.com'}, {'sn': 259, 'am': 6.5}], [{'n': 'An', 'pn': 77108737, 'ea': 'An@gmail.com'}, {'sn': 293, 'am': 7.0}]]\n"
          ]
        }
      ]
    },
    {
      "cell_type": "code",
      "metadata": {
        "id": "1iB6Pb8GZ4MA",
        "colab": {
          "base_uri": "https://localhost:8080/"
        },
        "outputId": "8e687ad6-3a4a-4279-e943-1ca81e4dd1dc"
      },
      "source": [
        "pro = []\n",
        "a01 = []\n",
        "tenp = [\"Tuan\", \"Xuan\", \"Hoang\", \"Viet\", \"Duc\", \"Manh\", \"Minh\", \"Ngoc\", \"Quan\", \"Trang\"]\n",
        "p1 = [39074859, 42901663, 26274623, 63363159, 55300077, 98431948, 33497721, 30818062, 16204006, 95525449]\n",
        "sa = [6000, 5000, 6000, 6000, 5500, 5000, 6000, 5500, 6000, 5500]\n",
        "for i in range(0,10):\n",
        "    pro01 = []\n",
        "    name = tenp[i]\n",
        "    phone_number = p1[i]\n",
        "    email_address = tenp[i] + \"@gmail.com\"\n",
        "    salary = sa[i]\n",
        "\n",
        "    n = person(name, phone_number, email_address)\n",
        "    c = professor(salary)\n",
        "    a01.append(vars(n))\n",
        "    pro01.append(vars(n))\n",
        "    pro01.append(vars(c))\n",
        "    pro.append(pro01)\n",
        "print(pro)"
      ],
      "execution_count": 34,
      "outputs": [
        {
          "output_type": "stream",
          "name": "stdout",
          "text": [
            "[[{'n': 'Tuan', 'pn': 39074859, 'ea': 'Tuan@gmail.com'}, {'salary': 6000}], [{'n': 'Xuan', 'pn': 42901663, 'ea': 'Xuan@gmail.com'}, {'salary': 5000}], [{'n': 'Hoang', 'pn': 26274623, 'ea': 'Hoang@gmail.com'}, {'salary': 6000}], [{'n': 'Viet', 'pn': 63363159, 'ea': 'Viet@gmail.com'}, {'salary': 6000}], [{'n': 'Duc', 'pn': 55300077, 'ea': 'Duc@gmail.com'}, {'salary': 5500}], [{'n': 'Manh', 'pn': 98431948, 'ea': 'Manh@gmail.com'}, {'salary': 5000}], [{'n': 'Minh', 'pn': 33497721, 'ea': 'Minh@gmail.com'}, {'salary': 6000}], [{'n': 'Ngoc', 'pn': 30818062, 'ea': 'Ngoc@gmail.com'}, {'salary': 5500}], [{'n': 'Quan', 'pn': 16204006, 'ea': 'Quan@gmail.com'}, {'salary': 6000}], [{'n': 'Trang', 'pn': 95525449, 'ea': 'Trang@gmail.com'}, {'salary': 5500}]]\n"
          ]
        }
      ]
    },
    {
      "cell_type": "code",
      "metadata": {
        "colab": {
          "base_uri": "https://localhost:8080/"
        },
        "id": "kfJPGOCnTCQo",
        "outputId": "9b2fd7a8-39c4-49a2-91fc-90480373916e"
      },
      "source": [
        "person = a + a01\n",
        "print(person)"
      ],
      "execution_count": 38,
      "outputs": [
        {
          "output_type": "stream",
          "name": "stdout",
          "text": [
            "[{'n': 'Tuan', 'pn': 37244034, 'ea': 'Tuan@gmail.com'}, {'n': 'Quan', 'pn': 38602412, 'ea': 'Quan@gmail.com'}, {'n': 'Long', 'pn': 32338905, 'ea': 'Long@gmail.com'}, {'n': 'Trang', 'pn': 82964296, 'ea': 'Trang@gmail.com'}, {'n': 'Ha', 'pn': 52019645, 'ea': 'Ha@gmail.com'}, {'n': 'Thanh', 'pn': 36597594, 'ea': 'Thanh@gmail.com'}, {'n': 'Nam', 'pn': 71419703, 'ea': 'Nam@gmail.com'}, {'n': 'My', 'pn': 89298997, 'ea': 'My@gmail.com'}, {'n': 'Thang', 'pn': 89111314, 'ea': 'Thang@gmail.com'}, {'n': 'An', 'pn': 77108737, 'ea': 'An@gmail.com'}, {'n': 'Tuan', 'pn': 39074859, 'ea': 'Tuan@gmail.com'}, {'n': 'Xuan', 'pn': 42901663, 'ea': 'Xuan@gmail.com'}, {'n': 'Hoang', 'pn': 26274623, 'ea': 'Hoang@gmail.com'}, {'n': 'Viet', 'pn': 63363159, 'ea': 'Viet@gmail.com'}, {'n': 'Duc', 'pn': 55300077, 'ea': 'Duc@gmail.com'}, {'n': 'Manh', 'pn': 98431948, 'ea': 'Manh@gmail.com'}, {'n': 'Minh', 'pn': 33497721, 'ea': 'Minh@gmail.com'}, {'n': 'Ngoc', 'pn': 30818062, 'ea': 'Ngoc@gmail.com'}, {'n': 'Quan', 'pn': 16204006, 'ea': 'Quan@gmail.com'}, {'n': 'Trang', 'pn': 95525449, 'ea': 'Trang@gmail.com'}]\n"
          ]
        }
      ]
    },
    {
      "cell_type": "code",
      "metadata": {
        "colab": {
          "base_uri": "https://localhost:8080/"
        },
        "id": "AMqffq52TI-4",
        "outputId": "8d563c13-8fef-4cf8-c7c0-4ec8e9678a16"
      },
      "source": [
        "f = open(\"student\", \"wb\")\n",
        "pickle.dump(stu, f)\n",
        "f.close()\n",
        "f = open(\"student\", \"rb\")\n",
        "print(\"student\\n\", pickle.load(f))\n",
        "f.close()"
      ],
      "execution_count": 39,
      "outputs": [
        {
          "output_type": "stream",
          "name": "stdout",
          "text": [
            "student\n",
            " [[{'n': 'Tuan', 'pn': 37244034, 'ea': 'Tuan@gmail.com'}, {'sn': 544, 'am': 7.2}], [{'n': 'Quan', 'pn': 38602412, 'ea': 'Quan@gmail.com'}, {'sn': 481, 'am': 6.3}], [{'n': 'Long', 'pn': 32338905, 'ea': 'Long@gmail.com'}, {'sn': 456, 'am': 5.5}], [{'n': 'Trang', 'pn': 82964296, 'ea': 'Trang@gmail.com'}, {'sn': 321, 'am': 8.5}], [{'n': 'Ha', 'pn': 52019645, 'ea': 'Ha@gmail.com'}, {'sn': 58, 'am': 7.5}], [{'n': 'Thanh', 'pn': 36597594, 'ea': 'Thanh@gmail.com'}, {'sn': 204, 'am': 7.7}], [{'n': 'Nam', 'pn': 71419703, 'ea': 'Nam@gmail.com'}, {'sn': 286, 'am': 8.1}], [{'n': 'My', 'pn': 89298997, 'ea': 'My@gmail.com'}, {'sn': 536, 'am': 9.0}], [{'n': 'Thang', 'pn': 89111314, 'ea': 'Thang@gmail.com'}, {'sn': 259, 'am': 6.5}], [{'n': 'An', 'pn': 77108737, 'ea': 'An@gmail.com'}, {'sn': 293, 'am': 7.0}]]\n"
          ]
        }
      ]
    },
    {
      "cell_type": "code",
      "metadata": {
        "colab": {
          "base_uri": "https://localhost:8080/"
        },
        "id": "ikwsXbEnUT10",
        "outputId": "80f7e62c-2b1a-4c02-9fcf-43b04fa5af60"
      },
      "source": [
        "m = open(\"professor\", \"wb\")\n",
        "pickle.dump(pro, m)\n",
        "m.close()\n",
        "m = open(\"professor\", \"rb\")\n",
        "print(\"professor\\n\", pickle.load(m))\n",
        "m.close()"
      ],
      "execution_count": 43,
      "outputs": [
        {
          "output_type": "stream",
          "name": "stdout",
          "text": [
            "professor\n",
            " [[{'n': 'Tuan', 'pn': 39074859, 'ea': 'Tuan@gmail.com'}, {'salary': 6000}], [{'n': 'Xuan', 'pn': 42901663, 'ea': 'Xuan@gmail.com'}, {'salary': 5000}], [{'n': 'Hoang', 'pn': 26274623, 'ea': 'Hoang@gmail.com'}, {'salary': 6000}], [{'n': 'Viet', 'pn': 63363159, 'ea': 'Viet@gmail.com'}, {'salary': 6000}], [{'n': 'Duc', 'pn': 55300077, 'ea': 'Duc@gmail.com'}, {'salary': 5500}], [{'n': 'Manh', 'pn': 98431948, 'ea': 'Manh@gmail.com'}, {'salary': 5000}], [{'n': 'Minh', 'pn': 33497721, 'ea': 'Minh@gmail.com'}, {'salary': 6000}], [{'n': 'Ngoc', 'pn': 30818062, 'ea': 'Ngoc@gmail.com'}, {'salary': 5500}], [{'n': 'Quan', 'pn': 16204006, 'ea': 'Quan@gmail.com'}, {'salary': 6000}], [{'n': 'Trang', 'pn': 95525449, 'ea': 'Trang@gmail.com'}, {'salary': 5500}]]\n"
          ]
        }
      ]
    },
    {
      "cell_type": "code",
      "metadata": {
        "colab": {
          "base_uri": "https://localhost:8080/"
        },
        "id": "3HqjNNLVX1xS",
        "outputId": "24f1f96e-5cee-45f6-8100-4cc4d2d5d615"
      },
      "source": [
        "c = open(\"person\", \"wb\")\n",
        "pickle.dump(person, c)\n",
        "c.close()\n",
        "c = open(\"person\", \"rb\")\n",
        "print(\"Student\\n\", pickle.load(c))\n",
        "c.close()"
      ],
      "execution_count": 44,
      "outputs": [
        {
          "output_type": "stream",
          "name": "stdout",
          "text": [
            "Student\n",
            " [{'n': 'Tuan', 'pn': 37244034, 'ea': 'Tuan@gmail.com'}, {'n': 'Quan', 'pn': 38602412, 'ea': 'Quan@gmail.com'}, {'n': 'Long', 'pn': 32338905, 'ea': 'Long@gmail.com'}, {'n': 'Trang', 'pn': 82964296, 'ea': 'Trang@gmail.com'}, {'n': 'Ha', 'pn': 52019645, 'ea': 'Ha@gmail.com'}, {'n': 'Thanh', 'pn': 36597594, 'ea': 'Thanh@gmail.com'}, {'n': 'Nam', 'pn': 71419703, 'ea': 'Nam@gmail.com'}, {'n': 'My', 'pn': 89298997, 'ea': 'My@gmail.com'}, {'n': 'Thang', 'pn': 89111314, 'ea': 'Thang@gmail.com'}, {'n': 'An', 'pn': 77108737, 'ea': 'An@gmail.com'}, {'n': 'Tuan', 'pn': 39074859, 'ea': 'Tuan@gmail.com'}, {'n': 'Xuan', 'pn': 42901663, 'ea': 'Xuan@gmail.com'}, {'n': 'Hoang', 'pn': 26274623, 'ea': 'Hoang@gmail.com'}, {'n': 'Viet', 'pn': 63363159, 'ea': 'Viet@gmail.com'}, {'n': 'Duc', 'pn': 55300077, 'ea': 'Duc@gmail.com'}, {'n': 'Manh', 'pn': 98431948, 'ea': 'Manh@gmail.com'}, {'n': 'Minh', 'pn': 33497721, 'ea': 'Minh@gmail.com'}, {'n': 'Ngoc', 'pn': 30818062, 'ea': 'Ngoc@gmail.com'}, {'n': 'Quan', 'pn': 16204006, 'ea': 'Quan@gmail.com'}, {'n': 'Trang', 'pn': 95525449, 'ea': 'Trang@gmail.com'}]\n"
          ]
        }
      ]
    }
  ]
}